{
 "cells": [
  {
   "cell_type": "code",
   "execution_count": null,
   "id": "89f0e546-eead-4141-ade6-2986e74a4a1a",
   "metadata": {},
   "outputs": [],
   "source": [
    "#class A: \n",
    "    #<methods>\n",
    "    #<methods>\n",
    "\n",
    "#class B(A):\n",
    "    #<methods>\n",
    "    #<methods>\n",
    "\n",
    "#obj = B()"
   ]
  },
  {
   "cell_type": "code",
   "execution_count": 7,
   "id": "ac139645-0ec6-4f0d-8423-0d5a74c1f299",
   "metadata": {},
   "outputs": [
    {
     "name": "stdout",
     "output_type": "stream",
     "text": [
      "Hello World I am Ram . I am 23. I am Kathmandu.\n"
     ]
    }
   ],
   "source": [
    "class Data:\n",
    "    def __init__(self):                   #parent class \n",
    "        self.name = \"Ram \"\n",
    "        self.age = 23\n",
    "        self.add = \"Kathmandu\" \n",
    "        \n",
    "    def data(self):\n",
    "        print(self.name,self.age,self.add)\n",
    "\n",
    "class Info(Data):                     #child class \n",
    "    def info(self):\n",
    "        print(f\"Hello World I am {self.name}. I am {self.age}. I am {self.add}.\")\n",
    "\n",
    "obj = Info()\n",
    "obj.info()"
   ]
  },
  {
   "cell_type": "code",
   "execution_count": 5,
   "id": "bb628f6e-30b7-4c14-a0c0-4e597488d456",
   "metadata": {},
   "outputs": [
    {
     "name": "stdin",
     "output_type": "stream",
     "text": [
      "Enter name =  Ram \n",
      "Enter age =  23\n",
      "Enter add =  kt\n"
     ]
    },
    {
     "name": "stdout",
     "output_type": "stream",
     "text": [
      "Hello World I am Ram . I am 23. I am kt.\n"
     ]
    }
   ],
   "source": [
    "class Data:                                 \n",
    "    def __init__(self,name,age,add):                   \n",
    "        self.name = name\n",
    "        self.age = age\n",
    "        self.add = add\n",
    "        \n",
    "    def data(self):\n",
    "        print(self.name,self.age,self.add)\n",
    "\n",
    "class Info(Data):                     \n",
    "    def info(self):\n",
    "        print(f\"Hello World I am {self.name}. I am {self.age}. I am {self.add}.\")\n",
    "        \n",
    "name = input(\"Enter name = \")\n",
    "age = int(input(\"Enter age = \"))\n",
    "add = input(\"Enter add = \")\n",
    "obj = Info(name,age,add)\n",
    "obj.info()\n"
   ]
  },
  {
   "cell_type": "code",
   "execution_count": 10,
   "id": "609b2c11-6eb0-42d4-aab4-aff6faf9c9d8",
   "metadata": {},
   "outputs": [
    {
     "name": "stdin",
     "output_type": "stream",
     "text": [
      "Enter name =  Ravan \n",
      "Enter age =  33\n",
      "Enter add =  Lanka \n"
     ]
    },
    {
     "name": "stdout",
     "output_type": "stream",
     "text": [
      "Hello World I am Ravan . I am 33. I am Lanka .\n",
      "Ravan  33 Lanka \n"
     ]
    }
   ],
   "source": [
    "class Data:                                 \n",
    "    def __init__(self,add):                   \n",
    "        self.add = add\n",
    "        \n",
    "    def data(self):\n",
    "        print(self.name,self.age,self.add)\n",
    "\n",
    "class Info(Data):                     \n",
    "    def __init__(self,name,age,add):\n",
    "        self.name = name\n",
    "        self.age = age \n",
    "        Data.__init__(self,add)\n",
    "    def info(self):\n",
    "        print(f\"Hello World I am {self.name}. I am {self.age}. I am {self.add}.\")\n",
    "        \n",
    "name = input(\"Enter name = \")\n",
    "age = int(input(\"Enter age = \"))\n",
    "add = input(\"Enter add = \")\n",
    "obj = Info(name,age,add)\n",
    "obj.info()\n",
    "obj.data()"
   ]
  },
  {
   "cell_type": "code",
   "execution_count": 13,
   "id": "dbcb6ebc-e441-4bbc-af42-2114b44767eb",
   "metadata": {},
   "outputs": [
    {
     "name": "stdout",
     "output_type": "stream",
     "text": [
      "This is class A\n",
      "This is class B\n",
      "This is class C\n"
     ]
    }
   ],
   "source": [
    "#multilevel \n",
    "class A:\n",
    "    print(\"This is class A\") \n",
    "class B(A):\n",
    "    print(\"This is class B\")\n",
    "class C(B):\n",
    "    print(\"This is class C\")\n",
    "\n",
    "obj = C()"
   ]
  },
  {
   "cell_type": "code",
   "execution_count": 14,
   "id": "24ad54ee-c7a0-44b5-8cd0-7e9e5ec8bfad",
   "metadata": {},
   "outputs": [
    {
     "name": "stdin",
     "output_type": "stream",
     "text": [
      "Enter name =  Rambo \n",
      "Enter age =  36\n",
      "Enter add =  Janakpur \n"
     ]
    },
    {
     "name": "stdout",
     "output_type": "stream",
     "text": [
      "Hello World I am Rambo . I am 36. I am Janakpur .\n",
      "Rambo  36 Janakpur \n"
     ]
    }
   ],
   "source": [
    "class Address:\n",
    "    def __init__(self,add):\n",
    "        self.add = add \n",
    "    def Address(self):\n",
    "        print(self.add)\n",
    "        \n",
    "class Data(Address):                                 \n",
    "    def __init__(self,age,add):                   \n",
    "        self.age = age\n",
    "        Address.__init__(self,add)\n",
    "        \n",
    "    def data(self):\n",
    "        print(self.name,self.age,self.add)\n",
    "\n",
    "class Info(Data):                     \n",
    "    def __init__(self,name,age,add):\n",
    "        self.name = name\n",
    "        Data.__init__(self,age,add)\n",
    "    def info(self):\n",
    "        print(f\"Hello World I am {self.name}. I am {self.age}. I am {self.add}.\")\n",
    "        \n",
    "name = input(\"Enter name = \")\n",
    "age = int(input(\"Enter age = \"))\n",
    "add = input(\"Enter add = \")\n",
    "obj = Info(name,age,add)\n",
    "obj.info()\n",
    "obj.data()"
   ]
  },
  {
   "cell_type": "code",
   "execution_count": 18,
   "id": "f45b1cd8-db42-4276-8f29-96ca08681e01",
   "metadata": {},
   "outputs": [
    {
     "name": "stdin",
     "output_type": "stream",
     "text": [
      "Enter name =  Ravan \n",
      "Enter age =  1000\n",
      "Enter add =  Lanka \n"
     ]
    },
    {
     "name": "stdout",
     "output_type": "stream",
     "text": [
      "Hello World I am Ravan . I am 1000. I am from Lanka .\n"
     ]
    }
   ],
   "source": [
    "class Address:                                 \n",
    "    def __init__(self,add):                   \n",
    "        self.add = add\n",
    "        \n",
    "    def address(self):\n",
    "        print(self.name,self.age,self.add)\n",
    "\n",
    "class Age:\n",
    "    def __init__(self,age):\n",
    "        self.age = age \n",
    "        \n",
    "class Info(Data):                     \n",
    "    def __init__(self,name,age,add):\n",
    "        self.name = name \n",
    "        Age.__init__(self,age) \n",
    "        Address.__init__(self,add) \n",
    "    def info(self):\n",
    "        print(f\"Hello World I am {self.name}. I am {self.age}. I am from {self.add}.\")\n",
    "        \n",
    "name = input(\"Enter name = \")\n",
    "age = int(input(\"Enter age = \"))\n",
    "add = input(\"Enter add = \")\n",
    "obj = Info(name,age,add)\n",
    "obj.info()"
   ]
  },
  {
   "cell_type": "code",
   "execution_count": 19,
   "id": "d1dc4151-237f-4bd2-acb4-cad0bade35fb",
   "metadata": {},
   "outputs": [
    {
     "name": "stdout",
     "output_type": "stream",
     "text": [
      "Hello World I am Ram . I am 23. I am Kathmandu.\n",
      "('Ram ', 23, 'Kathmandu')\n"
     ]
    }
   ],
   "source": [
    "class Data:\n",
    "    def __init__(self):                   #parent class \n",
    "        self.name = \"Ram \"\n",
    "        self.age = 23\n",
    "        self.add = \"Kathmandu\" \n",
    "        \n",
    "    def data(self):\n",
    "        return self.name,self.age,self.add\n",
    "\n",
    "class Info(Data):                     #child class \n",
    "    def info(self):\n",
    "        print(f\"Hello World I am {self.name}. I am {self.age}. I am {self.add}.\")\n",
    "        print(Data.data(self))\n",
    "        \n",
    "obj = Info()\n",
    "obj.info()"
   ]
  },
  {
   "cell_type": "code",
   "execution_count": null,
   "id": "6430eeac-3169-4465-a0a1-93207aaa6663",
   "metadata": {},
   "outputs": [],
   "source": []
  }
 ],
 "metadata": {
  "kernelspec": {
   "display_name": "Python 3 (ipykernel)",
   "language": "python",
   "name": "python3"
  },
  "language_info": {
   "codemirror_mode": {
    "name": "ipython",
    "version": 3
   },
   "file_extension": ".py",
   "mimetype": "text/x-python",
   "name": "python",
   "nbconvert_exporter": "python",
   "pygments_lexer": "ipython3",
   "version": "3.12.7"
  }
 },
 "nbformat": 4,
 "nbformat_minor": 5
}
