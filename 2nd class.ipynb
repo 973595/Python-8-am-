{
 "cells": [
  {
   "cell_type": "code",
   "execution_count": 3,
   "id": "af2970d7-05f0-4054-a7e5-74624dfa771a",
   "metadata": {},
   "outputs": [],
   "source": [
    "a = 10              #int only 0-9\n",
    "b = 10.5            #float 0-9 with decimal \n",
    "c = 'Hello World'   #string anything between '' or \"\"\n",
    "d = True            #boolen only True or False "
   ]
  },
  {
   "cell_type": "code",
   "execution_count": 4,
   "id": "983e589e-ba7c-4a84-962e-cee03fa7c74c",
   "metadata": {},
   "outputs": [
    {
     "name": "stdout",
     "output_type": "stream",
     "text": [
      "<class 'int'>\n",
      "<class 'float'>\n",
      "<class 'str'>\n",
      "<class 'bool'>\n"
     ]
    }
   ],
   "source": [
    "print(type(a))\n",
    "print(type(b))\n",
    "print(type(c))\n",
    "print(type(d))"
   ]
  },
  {
   "cell_type": "code",
   "execution_count": 5,
   "id": "03418858-feac-4d18-aa68-0ce183f03e66",
   "metadata": {},
   "outputs": [
    {
     "name": "stdout",
     "output_type": "stream",
     "text": [
      "10.0\n"
     ]
    }
   ],
   "source": [
    "# int to float\n",
    "a = 10 \n",
    "b = float(a)\n",
    "print(b)"
   ]
  },
  {
   "cell_type": "code",
   "execution_count": 7,
   "id": "9d53043f-f8fe-4a9d-aaa1-25049b8a9fbf",
   "metadata": {},
   "outputs": [
    {
     "name": "stdout",
     "output_type": "stream",
     "text": [
      "10\n"
     ]
    }
   ],
   "source": [
    "#float to int \n",
    "a = 10.5\n",
    "b = int(a)\n",
    "print(b)"
   ]
  },
  {
   "cell_type": "code",
   "execution_count": 8,
   "id": "7db9ba88-e03d-4e07-a681-9671ba71cb15",
   "metadata": {},
   "outputs": [
    {
     "name": "stdout",
     "output_type": "stream",
     "text": [
      "10\n"
     ]
    }
   ],
   "source": [
    "#int or float to string\n",
    "a = 10 \n",
    "b = str(a)\n",
    "print(b)"
   ]
  },
  {
   "cell_type": "code",
   "execution_count": 10,
   "id": "d121fe7f-2657-482b-b225-e566965eb780",
   "metadata": {},
   "outputs": [
    {
     "ename": "ValueError",
     "evalue": "invalid literal for int() with base 10: 'Ten'",
     "output_type": "error",
     "traceback": [
      "\u001b[1;31m---------------------------------------------------------------------------\u001b[0m",
      "\u001b[1;31mValueError\u001b[0m                                Traceback (most recent call last)",
      "Cell \u001b[1;32mIn[10], line 2\u001b[0m\n\u001b[0;32m      1\u001b[0m a \u001b[38;5;241m=\u001b[39m \u001b[38;5;124m'\u001b[39m\u001b[38;5;124mTen\u001b[39m\u001b[38;5;124m'\u001b[39m\n\u001b[1;32m----> 2\u001b[0m b \u001b[38;5;241m=\u001b[39m \u001b[38;5;28mint\u001b[39m(a)\n\u001b[0;32m      3\u001b[0m \u001b[38;5;28mprint\u001b[39m(b)\n",
      "\u001b[1;31mValueError\u001b[0m: invalid literal for int() with base 10: 'Ten'"
     ]
    }
   ],
   "source": [
    "a = 'Ten'\n",
    "b = int(a)\n",
    "print(b) "
   ]
  },
  {
   "cell_type": "code",
   "execution_count": 12,
   "id": "47641d0a-5472-4a10-94c8-c64427737723",
   "metadata": {},
   "outputs": [
    {
     "name": "stdout",
     "output_type": "stream",
     "text": [
      "10.5\n"
     ]
    }
   ],
   "source": [
    "#string to float \n",
    "a = '10.5'\n",
    "b = float (a)\n",
    "print(b)"
   ]
  },
  {
   "cell_type": "code",
   "execution_count": 13,
   "id": "24af72c3-f4f3-4793-8b26-b863246e2595",
   "metadata": {},
   "outputs": [
    {
     "name": "stdout",
     "output_type": "stream",
     "text": [
      "False\n"
     ]
    }
   ],
   "source": [
    "#int to boolen \n",
    "a = 0 \n",
    "b = bool(a)\n",
    "print(b)"
   ]
  },
  {
   "cell_type": "code",
   "execution_count": 14,
   "id": "c5dbce7a-3fc4-47eb-850e-edd0450ebab1",
   "metadata": {},
   "outputs": [
    {
     "name": "stdout",
     "output_type": "stream",
     "text": [
      "False\n"
     ]
    }
   ],
   "source": [
    "#str to bool \n",
    "a = ''\n",
    "b = bool(a)\n",
    "print(b)"
   ]
  },
  {
   "cell_type": "code",
   "execution_count": 15,
   "id": "4717f890-3e9a-41b1-b279-3c3512ed99b3",
   "metadata": {},
   "outputs": [],
   "source": [
    "#user defined variable "
   ]
  },
  {
   "cell_type": "code",
   "execution_count": 20,
   "id": "c20942e3-3642-4f56-a897-b24fe1a32765",
   "metadata": {
    "scrolled": true
   },
   "outputs": [
    {
     "name": "stdin",
     "output_type": "stream",
     "text": [
      "Enter a =  10 \n",
      "Enter b =  10 \n"
     ]
    },
    {
     "name": "stdout",
     "output_type": "stream",
     "text": [
      "20\n"
     ]
    }
   ],
   "source": [
    "a = int(input('Enter a = '))\n",
    "b = int(input('Enter b = '))\n",
    "c = a+b \n",
    "print(c) "
   ]
  },
  {
   "cell_type": "code",
   "execution_count": null,
   "id": "02ab58c7-7746-4697-baf3-915c3d5e7ddc",
   "metadata": {},
   "outputs": [],
   "source": []
  },
  {
   "cell_type": "code",
   "execution_count": 1,
   "id": "a0d22e0c-2913-4295-893c-c42d9ff41952",
   "metadata": {
    "scrolled": true
   },
   "outputs": [
    {
     "name": "stdin",
     "output_type": "stream",
     "text": [
      "Enter a =  10.5\n",
      "Enter b =  20.3\n"
     ]
    },
    {
     "name": "stdout",
     "output_type": "stream",
     "text": [
      "30.8\n"
     ]
    }
   ],
   "source": [
    "a = float(input('Enter a = '))\n",
    "b = float(input('Enter b = '))\n",
    "c = a+b \n",
    "print(c) "
   ]
  },
  {
   "cell_type": "code",
   "execution_count": 2,
   "id": "0239c4fd-df1f-42ef-b59f-0b0906bd8264",
   "metadata": {},
   "outputs": [
    {
     "name": "stdin",
     "output_type": "stream",
     "text": [
      "Enter p =  10000\n",
      "Enter t =  10\n",
      "Enter r =  10.5\n"
     ]
    },
    {
     "name": "stdout",
     "output_type": "stream",
     "text": [
      "The value of  10500.0\n"
     ]
    }
   ],
   "source": [
    "p = int(input(\"Enter p = \"))\n",
    "t = float(input(\"Enter t = \"))\n",
    "r = float(input(\"Enter r = \"))\n",
    "\n",
    "i = p*t*r/100 \n",
    "\n",
    "print(\"The value of \", i)"
   ]
  },
  {
   "cell_type": "code",
   "execution_count": 3,
   "id": "46702752-535d-4b65-8ce2-6ea6422ebd8b",
   "metadata": {},
   "outputs": [],
   "source": [
    "# WAP to calculate area of Circle"
   ]
  },
  {
   "cell_type": "code",
   "execution_count": 1,
   "id": "133f29bc-fcd5-4ca8-be1b-91dac1e1affa",
   "metadata": {},
   "outputs": [
    {
     "name": "stdin",
     "output_type": "stream",
     "text": [
      "Enter radius =  7\n"
     ]
    },
    {
     "name": "stdout",
     "output_type": "stream",
     "text": [
      "the area of circle =  153.86\n"
     ]
    }
   ],
   "source": [
    "pi = 3.14\n",
    "r = float(input(\"Enter radius = \"))\n",
    "a = 3.14*r**2\n",
    "print(\"the area of circle = \",a)"
   ]
  },
  {
   "cell_type": "code",
   "execution_count": null,
   "id": "2ba82d02-9b42-4ec6-ac7d-188d803b01e7",
   "metadata": {},
   "outputs": [],
   "source": []
  },
  {
   "cell_type": "code",
   "execution_count": 1,
   "id": "fab797e8-af2c-4d2b-a6d5-07032f9f311e",
   "metadata": {},
   "outputs": [
    {
     "name": "stdin",
     "output_type": "stream",
     "text": [
      "Enter physics marks =  86.5\n",
      "Enter chemistry marks =  95\n",
      "Enter nepali marks =  95.5\n",
      "Enter math marks =  45\n"
     ]
    },
    {
     "name": "stdout",
     "output_type": "stream",
     "text": [
      "the total marks =  322.0\n",
      "the per =  80.5 %\n"
     ]
    }
   ],
   "source": [
    "physics = float(input(\"Enter physics marks = \"))\n",
    "chemistry = int(input(\"Enter chemistry marks = \"))\n",
    "nepali = float(input(\"Enter nepali marks = \"))\n",
    "math = int(input(\"Enter math marks = \"))\n",
    "\n",
    "total = physics+chemistry+nepali+math\n",
    "per = total/4\n",
    "\n",
    "print(\"the total marks = \",total)\n",
    "print(\"the per = \",per,\"%\")"
   ]
  },
  {
   "cell_type": "code",
   "execution_count": 2,
   "id": "d99987b9-50d2-4915-996b-507af3d1990b",
   "metadata": {},
   "outputs": [
    {
     "name": "stdin",
     "output_type": "stream",
     "text": [
      "Enter CLI price =  758\n",
      "Enter CLI quantity =  300\n",
      "Enter CLI bonus shares =  80\n"
     ]
    },
    {
     "name": "stdout",
     "output_type": "stream",
     "text": [
      "The total quantity =  380\n",
      "The total price =  227400\n",
      "The average price =  598.421052631579\n"
     ]
    }
   ],
   "source": [
    "cli_p = int(input(\"Enter CLI price = \"))\n",
    "cli_q = int(input(\"Enter CLI quantity = \"))\n",
    "cli_b = int(input(\"Enter CLI bonus shares = \"))\n",
    "\n",
    "total_quantity = cli_q + cli_b\n",
    "total_price = cli_q * cli_p\n",
    "avg_price = total_price / total_quantity\n",
    "\n",
    "print(\"The total quantity = \", total_quantity)\n",
    "print(\"The total price = \", total_price)\n",
    "print(\"The average price = \", avg_price)"
   ]
  },
  {
   "cell_type": "code",
   "execution_count": null,
   "id": "67bcc192-1284-4ba4-b534-c080997fd4ee",
   "metadata": {},
   "outputs": [],
   "source": []
  }
 ],
 "metadata": {
  "kernelspec": {
   "display_name": "Python 3 (ipykernel)",
   "language": "python",
   "name": "python3"
  },
  "language_info": {
   "codemirror_mode": {
    "name": "ipython",
    "version": 3
   },
   "file_extension": ".py",
   "mimetype": "text/x-python",
   "name": "python",
   "nbconvert_exporter": "python",
   "pygments_lexer": "ipython3",
   "version": "3.12.7"
  }
 },
 "nbformat": 4,
 "nbformat_minor": 5
}
