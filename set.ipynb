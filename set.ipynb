{
 "cells": [
  {
   "cell_type": "code",
   "execution_count": null,
   "id": "0d923915-db93-45aa-ad7b-38b89798fef0",
   "metadata": {},
   "outputs": [],
   "source": [
    "#set \n",
    "#-No indexing \n",
    "#-Multiple but no duplicate \n",
    "#-unorder \n",
    "#-Mutable"
   ]
  },
  {
   "cell_type": "code",
   "execution_count": 1,
   "id": "b896270f-91d4-4573-916a-b196052740b6",
   "metadata": {},
   "outputs": [
    {
     "name": "stdout",
     "output_type": "stream",
     "text": [
      "<class 'set'>\n"
     ]
    }
   ],
   "source": [
    "s = set()\n",
    "print(type(s))"
   ]
  },
  {
   "cell_type": "code",
   "execution_count": 2,
   "id": "04e47f02-505f-4111-9193-38cd4c2715ab",
   "metadata": {},
   "outputs": [
    {
     "name": "stdout",
     "output_type": "stream",
     "text": [
      "{1, 2, 3, 4, 5, 6, 7, 8, 9}\n"
     ]
    }
   ],
   "source": [
    "s = {1,2,3,4,5,6,7,8,9}\n",
    "print(s)"
   ]
  },
  {
   "cell_type": "code",
   "execution_count": 2,
   "id": "00d9197f-f719-444b-8b7a-9c903739a7d0",
   "metadata": {},
   "outputs": [
    {
     "name": "stdout",
     "output_type": "stream",
     "text": [
      "{'Dog', 'Cat', 'Fish', 'Ball', 'Apple'}\n"
     ]
    }
   ],
   "source": [
    "s = {\"Apple\",\"Ball\",\"Cat\",\"Dog\",\"Fish\"}\n",
    "print(s)"
   ]
  },
  {
   "cell_type": "code",
   "execution_count": 3,
   "id": "0957a777-20c9-482d-96ae-f3157250eb9a",
   "metadata": {},
   "outputs": [
    {
     "name": "stdout",
     "output_type": "stream",
     "text": [
      "{'Dog', 'Cat', 'Fish', 'Ball', 'Apple'}\n"
     ]
    }
   ],
   "source": [
    "s = {\"Apple\",\"Ball\",\"Cat\",\"Dog\",\"Fish\",\"Apple\",\"Dog\"}\n",
    "print(s)"
   ]
  },
  {
   "cell_type": "code",
   "execution_count": 4,
   "id": "2c8a6404-d0e7-497c-b503-38d9d1386965",
   "metadata": {},
   "outputs": [
    {
     "ename": "TypeError",
     "evalue": "'set' object is not subscriptable",
     "output_type": "error",
     "traceback": [
      "\u001b[1;31m---------------------------------------------------------------------------\u001b[0m",
      "\u001b[1;31mTypeError\u001b[0m                                 Traceback (most recent call last)",
      "Cell \u001b[1;32mIn[4], line 2\u001b[0m\n\u001b[0;32m      1\u001b[0m s \u001b[38;5;241m=\u001b[39m {\u001b[38;5;124m\"\u001b[39m\u001b[38;5;124mApple\u001b[39m\u001b[38;5;124m\"\u001b[39m,\u001b[38;5;124m\"\u001b[39m\u001b[38;5;124mBall\u001b[39m\u001b[38;5;124m\"\u001b[39m,\u001b[38;5;124m\"\u001b[39m\u001b[38;5;124mCat\u001b[39m\u001b[38;5;124m\"\u001b[39m,\u001b[38;5;124m\"\u001b[39m\u001b[38;5;124mDog\u001b[39m\u001b[38;5;124m\"\u001b[39m,\u001b[38;5;124m\"\u001b[39m\u001b[38;5;124mFish\u001b[39m\u001b[38;5;124m\"\u001b[39m,\u001b[38;5;124m\"\u001b[39m\u001b[38;5;124mApple\u001b[39m\u001b[38;5;124m\"\u001b[39m,\u001b[38;5;124m\"\u001b[39m\u001b[38;5;124mDog\u001b[39m\u001b[38;5;124m\"\u001b[39m}\n\u001b[1;32m----> 2\u001b[0m s[\u001b[38;5;241m0\u001b[39m]\n",
      "\u001b[1;31mTypeError\u001b[0m: 'set' object is not subscriptable"
     ]
    }
   ],
   "source": [
    "s = {\"Apple\",\"Ball\",\"Cat\",\"Dog\",\"Fish\",\"Apple\",\"Dog\"}\n",
    "s[0]"
   ]
  },
  {
   "cell_type": "code",
   "execution_count": 6,
   "id": "0731fa38-5806-4661-9df3-048aef7daae4",
   "metadata": {},
   "outputs": [
    {
     "data": {
      "text/plain": [
       "dict"
      ]
     },
     "execution_count": 6,
     "metadata": {},
     "output_type": "execute_result"
    }
   ],
   "source": [
    "a = {}\n",
    "type(a)"
   ]
  },
  {
   "cell_type": "code",
   "execution_count": 8,
   "id": "c544e9e9-969d-454e-af57-b1e58f068dec",
   "metadata": {},
   "outputs": [
    {
     "name": "stdout",
     "output_type": "stream",
     "text": [
      "{'Cat', 'Ball', 'Apple'}\n"
     ]
    }
   ],
   "source": [
    "#insert data into set\n",
    "s = set()\n",
    "s.add(\"Apple\")\n",
    "s.add(\"Ball\")\n",
    "s.add(\"Cat\")\n",
    "print(s)"
   ]
  },
  {
   "cell_type": "code",
   "execution_count": 9,
   "id": "e9d9c4d9-9415-483c-949b-13eea78ba09e",
   "metadata": {},
   "outputs": [
    {
     "name": "stdout",
     "output_type": "stream",
     "text": [
      "{'Cat', 'Ball'}\n"
     ]
    }
   ],
   "source": [
    "#remove \n",
    "s = {'Cat', 'Ball', 'Apple'}\n",
    "s.remove(\"Apple\")\n",
    "print(s)\n"
   ]
  },
  {
   "cell_type": "code",
   "execution_count": null,
   "id": "bc8a873b-34ea-40ec-bcfa-2fdd883a30ef",
   "metadata": {},
   "outputs": [],
   "source": [
    "# There is no any mutabe data inside set "
   ]
  },
  {
   "cell_type": "code",
   "execution_count": null,
   "id": "a647cf33-9b67-49c1-8f34-2491fed38aa4",
   "metadata": {},
   "outputs": [],
   "source": [
    "#No list inside set \n",
    "#No dict inside set\n",
    "#No set insied set "
   ]
  },
  {
   "cell_type": "code",
   "execution_count": null,
   "id": "0f265e07-05a3-456b-8f0b-c58eca8b0ae4",
   "metadata": {},
   "outputs": [],
   "source": [
    "#in {} there is no any use of operator"
   ]
  },
  {
   "cell_type": "code",
   "execution_count": 10,
   "id": "0d8f4a14-d061-4a39-a887-6add209066e7",
   "metadata": {},
   "outputs": [
    {
     "name": "stdout",
     "output_type": "stream",
     "text": [
      "{1, 2, 3, 4, 5, 6, 7, 8, 9, 10}\n"
     ]
    }
   ],
   "source": [
    "a = {1,2,3,4,5}\n",
    "b = {6,7,8,9,10}\n",
    "a.update(b)\n",
    "print(a)"
   ]
  },
  {
   "cell_type": "code",
   "execution_count": 18,
   "id": "c2d76118-54a0-444b-94ce-80b50ef91d07",
   "metadata": {},
   "outputs": [
    {
     "name": "stdout",
     "output_type": "stream",
     "text": [
      "common hr =  {'Hari', 'Ram'}\n",
      "merged hr =  {'Hari', 'Ozzy', 'John', 'Samba', 'Jack', 'James', 'Rambo', 'Steve', 'Ram', 'Tom'}\n",
      "{'xyz', 'abc'}\n"
     ]
    }
   ],
   "source": [
    "U = {'xyz','abc','Hari', 'Ozzy', 'John', 'Samba', 'Jack', 'James', 'Rambo', 'Steve', 'Ram', 'Tom'}\n",
    "\n",
    "ms = {\"Rambo\",\"Samba\",\"Jack\",\"John\",\"Ram\",\"Hari\"}\n",
    "apple = {\"Steve\",\"James\",\"Ozzy\",\"Tom\",\"Ram\",\"Hari\"}\n",
    "\n",
    "common = ms.intersection(apple)\n",
    "\n",
    "merge = ms.union(apple)\n",
    "\n",
    "print(\"common hr = \",common)\n",
    "\n",
    "print(\"merged hr = \", merge)\n",
    "\n",
    "print(U-merge)"
   ]
  },
  {
   "cell_type": "code",
   "execution_count": 13,
   "id": "10190887-0c1c-47a7-8b3b-5f619d9a3928",
   "metadata": {},
   "outputs": [
    {
     "name": "stdout",
     "output_type": "stream",
     "text": [
      "only ms =  {'Samba', 'Jack', 'Rambo', 'John'}\n"
     ]
    }
   ],
   "source": [
    "print(\"only ms = \", ms-apple)"
   ]
  },
  {
   "cell_type": "code",
   "execution_count": 14,
   "id": "f61f0085-6131-409c-a3a3-df0949fa12cd",
   "metadata": {},
   "outputs": [
    {
     "name": "stdout",
     "output_type": "stream",
     "text": [
      "only apple =  {'Ozzy', 'James', 'Steve', 'Tom'}\n"
     ]
    }
   ],
   "source": [
    "print(\"only apple = \", apple-ms)"
   ]
  },
  {
   "cell_type": "code",
   "execution_count": 19,
   "id": "784de4f8-219d-426b-a094-a17e8efe9809",
   "metadata": {},
   "outputs": [
    {
     "name": "stdout",
     "output_type": "stream",
     "text": [
      "{'xyz', 'abc'}\n"
     ]
    }
   ],
   "source": [
    "print(U-merge)"
   ]
  },
  {
   "cell_type": "code",
   "execution_count": null,
   "id": "fdc674de-ef51-4738-9b5f-297b15563d19",
   "metadata": {},
   "outputs": [],
   "source": [
    "# subset \n",
    "# superset()\n",
    "# disjoint()"
   ]
  },
  {
   "cell_type": "code",
   "execution_count": null,
   "id": "c554ee7d-06d7-49d6-9e9b-8c4debf47926",
   "metadata": {},
   "outputs": [],
   "source": []
  },
  {
   "cell_type": "code",
   "execution_count": null,
   "id": "a51300e9-1a0b-404a-8d82-148240c1ac28",
   "metadata": {},
   "outputs": [],
   "source": []
  }
 ],
 "metadata": {
  "kernelspec": {
   "display_name": "Python 3 (ipykernel)",
   "language": "python",
   "name": "python3"
  },
  "language_info": {
   "codemirror_mode": {
    "name": "ipython",
    "version": 3
   },
   "file_extension": ".py",
   "mimetype": "text/x-python",
   "name": "python",
   "nbconvert_exporter": "python",
   "pygments_lexer": "ipython3",
   "version": "3.12.7"
  }
 },
 "nbformat": 4,
 "nbformat_minor": 5
}
