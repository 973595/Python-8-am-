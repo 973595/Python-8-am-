{
 "cells": [
  {
   "cell_type": "code",
   "execution_count": null,
   "id": "b8403f2e-1660-4e93-9542-71821ba22b68",
   "metadata": {},
   "outputs": [],
   "source": [
    "#for loop \n",
    "#while loop "
   ]
  },
  {
   "cell_type": "code",
   "execution_count": null,
   "id": "398c8dd2-a150-450a-af74-92f3f6b5dccc",
   "metadata": {},
   "outputs": [],
   "source": [
    "#for loop range \n",
    "#range(5)          #0,1,2,3,4\n",
    "#range(1,5)        #1,2,3,4\n",
    "#range(1,10,2)     #1,3,5,7,9\n"
   ]
  },
  {
   "cell_type": "code",
   "execution_count": 2,
   "id": "3ead9d6f-043c-4674-acce-6530088caf7b",
   "metadata": {},
   "outputs": [
    {
     "name": "stdout",
     "output_type": "stream",
     "text": [
      "0 god\n",
      "1 god\n",
      "2 god\n",
      "3 god\n",
      "4 god\n"
     ]
    }
   ],
   "source": [
    "for i in range(5):\n",
    "    print(i, \"god\")"
   ]
  },
  {
   "cell_type": "code",
   "execution_count": 3,
   "id": "2eb57623-506b-4be0-9cee-92a2ce010848",
   "metadata": {},
   "outputs": [
    {
     "name": "stdout",
     "output_type": "stream",
     "text": [
      "1 god\n",
      "2 god\n",
      "3 god\n",
      "4 god\n"
     ]
    }
   ],
   "source": [
    "for i in range(1,5):\n",
    "    print(i, \"god\")"
   ]
  },
  {
   "cell_type": "code",
   "execution_count": 4,
   "id": "545e3b91-d41d-4d60-b0ef-5e9a33c0ea5f",
   "metadata": {},
   "outputs": [
    {
     "name": "stdout",
     "output_type": "stream",
     "text": [
      "1 god\n",
      "3 god\n",
      "5 god\n",
      "7 god\n",
      "9 god\n"
     ]
    }
   ],
   "source": [
    "for i in range(1,10,2):\n",
    "    print(i, \"god\")"
   ]
  },
  {
   "cell_type": "code",
   "execution_count": 5,
   "id": "7e5f7d83-5208-4e6e-8d7c-746ad41a3369",
   "metadata": {},
   "outputs": [
    {
     "name": "stdout",
     "output_type": "stream",
     "text": [
      "5 god\n",
      "4 god\n",
      "3 god\n",
      "2 god\n",
      "1 god\n",
      "0 god\n"
     ]
    }
   ],
   "source": [
    "for i in range(5,-1,-1):\n",
    "    print(i, \"god\")"
   ]
  },
  {
   "cell_type": "code",
   "execution_count": 6,
   "id": "aca21860-efd4-45ba-b515-4208f58bb56a",
   "metadata": {},
   "outputs": [
    {
     "name": "stdin",
     "output_type": "stream",
     "text": [
      "Enter n =  5\n"
     ]
    },
    {
     "name": "stdout",
     "output_type": "stream",
     "text": [
      "5\n",
      "10\n",
      "15\n",
      "20\n",
      "25\n",
      "30\n",
      "35\n",
      "40\n",
      "45\n",
      "50\n"
     ]
    }
   ],
   "source": [
    "#wap to create a multiplication table \n",
    "n = int(input(\"Enter n = \"))\n",
    "for i in range(1,11):\n",
    "    print(i*n)"
   ]
  },
  {
   "cell_type": "code",
   "execution_count": 7,
   "id": "862c4c61-47f0-4d65-81e1-4ad9c2fddb2b",
   "metadata": {},
   "outputs": [
    {
     "name": "stdin",
     "output_type": "stream",
     "text": [
      "Enter n =  5\n"
     ]
    },
    {
     "name": "stdout",
     "output_type": "stream",
     "text": [
      "5 * 1 = 5\n",
      "5 * 2 = 10\n",
      "5 * 3 = 15\n",
      "5 * 4 = 20\n",
      "5 * 5 = 25\n",
      "5 * 6 = 30\n",
      "5 * 7 = 35\n",
      "5 * 8 = 40\n",
      "5 * 9 = 45\n",
      "5 * 10 = 50\n"
     ]
    }
   ],
   "source": [
    "n = int(input(\"Enter n = \"))\n",
    "for i in range(1,11):\n",
    "    print(n,\"*\",i,\"=\",n*i)"
   ]
  },
  {
   "cell_type": "code",
   "execution_count": 1,
   "id": "9f9a9fc7-36f2-478d-9866-16ca51829569",
   "metadata": {},
   "outputs": [
    {
     "name": "stdin",
     "output_type": "stream",
     "text": [
      "Enter n =  5\n",
      "Enter x =  1000\n"
     ]
    },
    {
     "name": "stdout",
     "output_type": "stream",
     "text": [
      "1100.0\n"
     ]
    },
    {
     "name": "stdin",
     "output_type": "stream",
     "text": [
      "Enter x =  2000\n"
     ]
    },
    {
     "name": "stdout",
     "output_type": "stream",
     "text": [
      "3300.0\n"
     ]
    },
    {
     "name": "stdin",
     "output_type": "stream",
     "text": [
      "Enter x =  3000\n"
     ]
    },
    {
     "name": "stdout",
     "output_type": "stream",
     "text": [
      "6600.0\n"
     ]
    },
    {
     "name": "stdin",
     "output_type": "stream",
     "text": [
      "Enter x =  4000\n"
     ]
    },
    {
     "name": "stdout",
     "output_type": "stream",
     "text": [
      "11000.0\n"
     ]
    },
    {
     "name": "stdin",
     "output_type": "stream",
     "text": [
      "Enter x =  5000\n"
     ]
    },
    {
     "name": "stdout",
     "output_type": "stream",
     "text": [
      "16500.0\n"
     ]
    }
   ],
   "source": [
    "s = 0 \n",
    "n = int(input(\"Enter n = \"))\n",
    "for i in range(n):\n",
    "    x = int(input(\"Enter x = \"))\n",
    "    s = s + x*1.1\n",
    "    print(s)"
   ]
  },
  {
   "cell_type": "code",
   "execution_count": 1,
   "id": "29685873-0727-427a-b946-a9fc9a4a345f",
   "metadata": {
    "scrolled": true
   },
   "outputs": [
    {
     "name": "stdin",
     "output_type": "stream",
     "text": [
      "Enter n =  3 \n",
      "Enter name =  Jack \n",
      "Enter name =  Daniels \n",
      "Enter name =  Bagpiper\n"
     ]
    },
    {
     "name": "stdout",
     "output_type": "stream",
     "text": [
      "Jack \n",
      "Daniels \n",
      "Bagpiper\n",
      "\n"
     ]
    }
   ],
   "source": [
    "s = \"\"\n",
    "n = int(input(\"Enter n = \"))\n",
    "for i in range(n):\n",
    "    name = input(\"Enter name = \")\n",
    "    s = s + name + \"\\n\"\n",
    "\n",
    "print(s)"
   ]
  },
  {
   "cell_type": "code",
   "execution_count": 1,
   "id": "29fe57e3-6d7c-49a6-9827-b0c31eafb679",
   "metadata": {},
   "outputs": [
    {
     "name": "stdin",
     "output_type": "stream",
     "text": [
      "Enter n =  5\n"
     ]
    },
    {
     "name": "stdout",
     "output_type": "stream",
     "text": [
      "1\n",
      "2\n",
      "6\n",
      "24\n",
      "120\n"
     ]
    }
   ],
   "source": [
    "# 1 WAP to find factorail of a given number \n",
    "#5! = 1*2*3*4*5\n",
    "\n",
    "s = 1 \n",
    "n = int(input(\"Enter n = \"))\n",
    "for i in range(1,n+1):\n",
    "    s = s * i \n",
    "    print(s)"
   ]
  },
  {
   "cell_type": "code",
   "execution_count": null,
   "id": "c51120b1-4071-4e74-acb3-45028fdaa3fb",
   "metadata": {},
   "outputs": [],
   "source": [
    "# 2 WAP to find sum of all values (from 1 to itself)\n",
    "5 -> 1+2+3+4+5"
   ]
  },
  {
   "cell_type": "code",
   "execution_count": 2,
   "id": "bd019c13-4676-4338-82da-63341dd9a24c",
   "metadata": {},
   "outputs": [
    {
     "name": "stdin",
     "output_type": "stream",
     "text": [
      "Enter n =  5\n"
     ]
    },
    {
     "name": "stdout",
     "output_type": "stream",
     "text": [
      "15\n"
     ]
    }
   ],
   "source": [
    "# 2 WAP to find sum  all value (from 1 to itself)\n",
    "\n",
    "s = 0\n",
    "n = int(input(\"Enter n = \"))\n",
    "for i in range(1,n+1):\n",
    "    s = s + i \n",
    "print(s)"
   ]
  },
  {
   "cell_type": "code",
   "execution_count": 9,
   "id": "b49a3129-053c-46c9-8475-9313335067b3",
   "metadata": {},
   "outputs": [
    {
     "name": "stdin",
     "output_type": "stream",
     "text": [
      "Enter n =  2\n",
      "Enter name =  Jack\n",
      "Enter number =  9861973595\n",
      "Enter name =  Rambo \n",
      "Enter number =  9739654322\n"
     ]
    },
    {
     "name": "stdout",
     "output_type": "stream",
     "text": [
      " Jack\t9861973595\n",
      "Rambo \t9739654322\n",
      "\n"
     ]
    }
   ],
   "source": [
    "#WAP to store a name and phone number of given persons \n",
    "s = \" \"\n",
    "n = int(input(\"Enter n = \"))\n",
    "for i in range(n):\n",
    "    name = input(\"Enter name = \")\n",
    "    number = input(\"Enter number = \")\n",
    "    s = s + name + \"\\t\" +number + \"\\n\" \n",
    "\n",
    "print(s)\n"
   ]
  },
  {
   "cell_type": "code",
   "execution_count": null,
   "id": "0c757c3d-e9c9-4bb2-a6eb-4a6834281ad7",
   "metadata": {},
   "outputs": [],
   "source": [
    "# WAP to create a billing system \n",
    "#product - > ?\n",
    "#price - > ?\n",
    "#qty - > \n",
    "#total - > ? \n"
   ]
  },
  {
   "cell_type": "code",
   "execution_count": 15,
   "id": "232dcce9-104b-427c-aeb5-b6760d50bc75",
   "metadata": {},
   "outputs": [
    {
     "name": "stdin",
     "output_type": "stream",
     "text": [
      "Enter n =  2\n",
      "Enter prodcut =  beer\n",
      "Enter price =  300\n",
      "Enter qty =  4\n",
      "Enter prodcut =  cig\n",
      "Enter price =  270\n",
      "Enter qty =  4\n"
     ]
    },
    {
     "name": "stdout",
     "output_type": "stream",
     "text": [
      " beer\t300\t4.0\t1200.0\n",
      "cig\t270\t4.0\t1080.0\n",
      "\n",
      "total amount =  2280.0\n"
     ]
    }
   ],
   "source": [
    "bill = \" \" \n",
    "final_total = 0 \n",
    "n = int(input(\"Enter n = \")) \n",
    "for i in range(n):\n",
    "    product = input(\"Enter prodcut = \")\n",
    "    price = int(input(\"Enter price = \"))\n",
    "    qty = float(input(\"Enter qty = \"))\n",
    "    total = price * qty\n",
    "    x = product + \"\\t\" +str(price) + \"\\t\" +str(qty) + \"\\t\" + str(total) + \"\\n\"\n",
    "    bill = bill + x\n",
    "    final_total = final_total + total\n",
    "\n",
    "print(bill)\n",
    "print('total amount = ', final_total)\n"
   ]
  },
  {
   "cell_type": "code",
   "execution_count": 19,
   "id": "00481c80-21d9-44fe-9761-fb1c5403fc10",
   "metadata": {},
   "outputs": [
    {
     "name": "stdout",
     "output_type": "stream",
     "text": [
      "H Hello World\n",
      "e Hello World\n",
      "l Hello World\n",
      "l Hello World\n",
      "o Hello World\n"
     ]
    }
   ],
   "source": [
    "#loop on string\n",
    "a = \"Hello\"\n",
    "for i in a:\n",
    "    print(i, \"Hello World\")"
   ]
  },
  {
   "cell_type": "code",
   "execution_count": 20,
   "id": "f49148e8-b309-496a-ad61-360dc4adf723",
   "metadata": {},
   "outputs": [
    {
     "name": "stdout",
     "output_type": "stream",
     "text": [
      "Hello World. I am BBC."
     ]
    }
   ],
   "source": [
    "a = \"Hello World. I am BBC.\"\n",
    "for i in a:\n",
    "    print(i, end = \"\")"
   ]
  },
  {
   "cell_type": "code",
   "execution_count": 21,
   "id": "609d4b10-69d6-49be-92d1-c4284c36f7e7",
   "metadata": {},
   "outputs": [
    {
     "name": "stdout",
     "output_type": "stream",
     "text": [
      "Hello World I am BBC"
     ]
    }
   ],
   "source": [
    "a = \"Hello World. I am BBC.\"\n",
    "for i in a:\n",
    "    if i != \".\":\n",
    "        print(i, end = \"\")"
   ]
  },
  {
   "cell_type": "code",
   "execution_count": 24,
   "id": "c3483361-16c8-42b3-b9e8-6f617cd99f33",
   "metadata": {},
   "outputs": [
    {
     "name": "stdout",
     "output_type": "stream",
     "text": [
      "Hello World I am python"
     ]
    }
   ],
   "source": [
    "a = \"Hello World! I am python.\"\n",
    "for i in a:\n",
    "    if (i != \".\") and (i != \"!\"):\n",
    "        print(i, end = \"\")\n",
    "    "
   ]
  },
  {
   "cell_type": "code",
   "execution_count": null,
   "id": "98079c2e-447f-4c71-ab71-d627606dcb89",
   "metadata": {},
   "outputs": [],
   "source": []
  },
  {
   "cell_type": "code",
   "execution_count": null,
   "id": "a2a7b8f7-ebfe-4757-b438-9d35947fca55",
   "metadata": {},
   "outputs": [],
   "source": [
    "#control statements\n",
    "#break\n",
    "#continue \n",
    "#pass "
   ]
  },
  {
   "cell_type": "code",
   "execution_count": 1,
   "id": "ed1d560a-c132-4f21-a44f-f0fa0c81d747",
   "metadata": {},
   "outputs": [
    {
     "name": "stdout",
     "output_type": "stream",
     "text": [
      "0\n",
      "1\n",
      "2\n",
      "3\n",
      "4\n"
     ]
    }
   ],
   "source": [
    "a = 5    \n",
    "for i in range(10):\n",
    "    if i == a:\n",
    "        break \n",
    "    print(i)\n",
    "    "
   ]
  },
  {
   "cell_type": "code",
   "execution_count": 2,
   "id": "4067842a-0610-4fd7-81bc-f8388c1b223e",
   "metadata": {},
   "outputs": [
    {
     "name": "stdout",
     "output_type": "stream",
     "text": [
      "0\n",
      "1\n",
      "2\n",
      "3\n",
      "4\n",
      "6\n",
      "7\n",
      "8\n",
      "9\n"
     ]
    }
   ],
   "source": [
    "a = 5 \n",
    "for i in range(10):\n",
    "    if i == a:\n",
    "        continue\n",
    "    print(i)\n",
    "        "
   ]
  },
  {
   "cell_type": "code",
   "execution_count": 3,
   "id": "d3b03476-6d00-435f-be4c-2aa412b48258",
   "metadata": {},
   "outputs": [
    {
     "name": "stdout",
     "output_type": "stream",
     "text": [
      "Hello World"
     ]
    }
   ],
   "source": [
    "a = \"Hello World. I am Python.\"\n",
    "for i in a:\n",
    "    if i == \".\":\n",
    "        break\n",
    "    print(i, end = \"\")"
   ]
  },
  {
   "cell_type": "code",
   "execution_count": 4,
   "id": "86e3c06a-b2bf-4647-9801-b96248b35919",
   "metadata": {},
   "outputs": [
    {
     "name": "stdout",
     "output_type": "stream",
     "text": [
      "Hello World I am Python"
     ]
    }
   ],
   "source": [
    "a = \"Hello World. I am Python.\"\n",
    "for i in a:\n",
    "    if i == \".\":\n",
    "        continue\n",
    "    print(i, end = \"\")"
   ]
  },
  {
   "cell_type": "code",
   "execution_count": null,
   "id": "c1fdb626-e24c-47cd-93e9-98e281234598",
   "metadata": {},
   "outputs": [],
   "source": [
    "#while loop (when you have to control the loop)"
   ]
  },
  {
   "cell_type": "code",
   "execution_count": null,
   "id": "ae4f0a45-89b3-472a-948a-60bfffcd0840",
   "metadata": {},
   "outputs": [],
   "source": [
    "#while conditions>;\n",
    "#    <operations>"
   ]
  },
  {
   "cell_type": "code",
   "execution_count": 5,
   "id": "858f8143-51b0-42a1-866c-cc25f53e0be4",
   "metadata": {},
   "outputs": [
    {
     "name": "stdout",
     "output_type": "stream",
     "text": [
      "0 Hello World\n",
      "1 Hello World\n",
      "2 Hello World\n",
      "3 Hello World\n",
      "4 Hello World\n"
     ]
    }
   ],
   "source": [
    "a = 0\n",
    "while a<5:\n",
    "    print(a, \"Hello World\")\n",
    "    a = a+1"
   ]
  },
  {
   "cell_type": "code",
   "execution_count": 1,
   "id": "38c3b914-b4d8-4de2-9162-316619915e16",
   "metadata": {},
   "outputs": [
    {
     "name": "stdout",
     "output_type": "stream",
     "text": [
      "5 Hello World\n",
      "4 Hello World\n",
      "3 Hello World\n",
      "2 Hello World\n",
      "1 Hello World\n"
     ]
    }
   ],
   "source": [
    "a = 5\n",
    "while a>0:\n",
    "    print(a, \"Hello World\")\n",
    "    a = a-1 \n",
    "    \n",
    "    \n",
    "    "
   ]
  },
  {
   "cell_type": "code",
   "execution_count": 2,
   "id": "c935e181-26b5-40ac-beaf-6e334ef900c8",
   "metadata": {},
   "outputs": [
    {
     "name": "stdin",
     "output_type": "stream",
     "text": [
      "Enter n =  5\n"
     ]
    },
    {
     "name": "stdout",
     "output_type": "stream",
     "text": [
      "5 * 1 = 5\n",
      "5 * 2 = 5\n",
      "5 * 3 = 5\n",
      "5 * 4 = 5\n",
      "5 * 5 = 5\n",
      "5 * 6 = 5\n",
      "5 * 7 = 5\n",
      "5 * 8 = 5\n",
      "5 * 9 = 5\n",
      "5 * 10 = 5\n"
     ]
    }
   ],
   "source": [
    "n = int(input(\"Enter n = \"))\n",
    "i = 1\n",
    "while i <=10:\n",
    "    print(n, \"*\",i,\"=\",n*1)\n",
    "    i = i+1\n",
    "    "
   ]
  },
  {
   "cell_type": "code",
   "execution_count": 4,
   "id": "5b1bb4c9-e938-42a6-a949-8b6cbab86bf7",
   "metadata": {},
   "outputs": [
    {
     "name": "stdin",
     "output_type": "stream",
     "text": [
      "Enter n =  3\n",
      "Enter x =  4\n",
      "Enter x =  3\n",
      "Enter x =  6\n"
     ]
    },
    {
     "name": "stdout",
     "output_type": "stream",
     "text": [
      "13\n"
     ]
    }
   ],
   "source": [
    "s = 0 \n",
    "i = 0 \n",
    "n = int(input(\"Enter n = \"))\n",
    "while i<n:\n",
    "    x = int(input(\"Enter x = \"))\n",
    "    s = s+x\n",
    "    i = i+1\n",
    "print(s)\n"
   ]
  },
  {
   "cell_type": "code",
   "execution_count": 2,
   "id": "226a08a5-4de8-48a2-add8-87bbdf082d94",
   "metadata": {},
   "outputs": [
    {
     "name": "stdin",
     "output_type": "stream",
     "text": [
      "Enter n =  3\n",
      "Enter name =  ram \n",
      "Enter phone =  9861973505\n",
      "Enter name =  shyam \n",
      "Enter phone =  000000000\n",
      "Enter name =  gandu \n",
      "Enter phone =  999182382982\n"
     ]
    },
    {
     "name": "stdout",
     "output_type": "stream",
     "text": [
      "ram \t9861973505\n",
      "shyam \t000000000\n",
      "gandu \t999182382982\n",
      "\n"
     ]
    }
   ],
   "source": [
    "#wap to store name and phone no. of given persons\n",
    "i = 0\n",
    "s = \"\"\n",
    "n = int(input(\"Enter n = \"))\n",
    "while i<n:\n",
    "    name = input(\"Enter name = \")\n",
    "    phone = input(\"Enter phone = \")\n",
    "    s = s + name + \"\\t\" +phone + \"\\n\"\n",
    "    i = i + 1 \n",
    "\n",
    "print(s)"
   ]
  },
  {
   "cell_type": "code",
   "execution_count": 3,
   "id": "10660585-ec59-47fd-a7c3-92bceaa47120",
   "metadata": {},
   "outputs": [
    {
     "name": "stdin",
     "output_type": "stream",
     "text": [
      "Enter n =  2\n",
      "Enter prodcut =  beer\n",
      "Enter price =  300\n",
      "Enter qty =  3\n",
      "Enter prodcut =  cig\n",
      "Enter price =  270\n",
      "Enter qty =  3\n"
     ]
    },
    {
     "name": "stdout",
     "output_type": "stream",
     "text": [
      " beer\t300\t3.0\t900.0\n",
      "cig\t270\t3.0\t810.0\n",
      "\n",
      "total amount =  1710.0\n"
     ]
    }
   ],
   "source": [
    "i = 0\n",
    "bill = \" \" \n",
    "final_total = 0 \n",
    "n = int(input(\"Enter n = \")) \n",
    "while i<n:\n",
    "    product = input(\"Enter prodcut = \")\n",
    "    price = int(input(\"Enter price = \"))\n",
    "    qty = float(input(\"Enter qty = \"))\n",
    "    total = price * qty\n",
    "    x = product + \"\\t\" +str(price) + \"\\t\" +str(qty) + \"\\t\" + str(total) + \"\\n\"\n",
    "    bill = bill + x\n",
    "    final_total = final_total + total\n",
    "    i = i + 1\n",
    "\n",
    "print(bill)\n",
    "print('total amount = ', final_total)\n"
   ]
  },
  {
   "cell_type": "code",
   "execution_count": null,
   "id": "ce6f1f14-91d8-47d1-a6b6-af5e6276205b",
   "metadata": {},
   "outputs": [],
   "source": [
    "#control statement in while loop "
   ]
  },
  {
   "cell_type": "code",
   "execution_count": 4,
   "id": "dad524e1-09fc-427b-ba38-f4706e7a3dd1",
   "metadata": {},
   "outputs": [
    {
     "name": "stdout",
     "output_type": "stream",
     "text": [
      "0\n",
      "1\n",
      "2\n",
      "3\n",
      "4\n"
     ]
    }
   ],
   "source": [
    "i = 0 \n",
    "while i<10:\n",
    "    if i == 5:\n",
    "        break\n",
    "    print(i)\n",
    "    i = i + 1"
   ]
  },
  {
   "cell_type": "code",
   "execution_count": 1,
   "id": "1978d709-a853-4a96-82e5-fc8a2d95c0f4",
   "metadata": {},
   "outputs": [
    {
     "name": "stdout",
     "output_type": "stream",
     "text": [
      "0\n",
      "1\n",
      "2\n",
      "3\n",
      "4\n",
      "5\n",
      "6\n",
      "7\n",
      "8\n",
      "9\n",
      "10\n",
      "11\n",
      "13\n",
      "14\n"
     ]
    }
   ],
   "source": [
    "i = 0 \n",
    "while i<15:\n",
    "    if i == 12:\n",
    "        i = i + 1 \n",
    "        continue \n",
    "    print(i)\n",
    "    i = i + 1"
   ]
  },
  {
   "cell_type": "code",
   "execution_count": 3,
   "id": "bd70700c-4466-4e4c-b6f0-27be7046a527",
   "metadata": {},
   "outputs": [
    {
     "name": "stdin",
     "output_type": "stream",
     "text": [
      "Enter n =  10\n"
     ]
    },
    {
     "name": "stdout",
     "output_type": "stream",
     "text": [
      "composite no\n",
      "composite no\n",
      "The no is prime\n"
     ]
    }
   ],
   "source": [
    "# for else loop \n",
    "#prime -> 2,3,5,7,11,13,17,19\n",
    "#composite -> 4,6,8,9,10,12\n",
    "\n",
    "n = int(input(\"Enter n = \"))\n",
    "for i in range(2,n):\n",
    "    if n%i == 0:\n",
    "        print(\"composite no\")\n",
    "else:\n",
    "    print(\"The no is prime\")"
   ]
  },
  {
   "cell_type": "code",
   "execution_count": null,
   "id": "6afa7dc1-2998-4838-ae5d-bcbeea7778e1",
   "metadata": {},
   "outputs": [],
   "source": []
  }
 ],
 "metadata": {
  "kernelspec": {
   "display_name": "Python 3 (ipykernel)",
   "language": "python",
   "name": "python3"
  },
  "language_info": {
   "codemirror_mode": {
    "name": "ipython",
    "version": 3
   },
   "file_extension": ".py",
   "mimetype": "text/x-python",
   "name": "python",
   "nbconvert_exporter": "python",
   "pygments_lexer": "ipython3",
   "version": "3.12.7"
  }
 },
 "nbformat": 4,
 "nbformat_minor": 5
}
