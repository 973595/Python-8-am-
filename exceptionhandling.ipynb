{
 "cells": [
  {
   "cell_type": "code",
   "execution_count": null,
   "id": "a9c72b89-599b-4b88-b6ac-4e6526ea9b48",
   "metadata": {},
   "outputs": [],
   "source": [
    "#try:\n",
    "#    <operations>\n",
    "#except:\n",
    "#    <operations>"
   ]
  },
  {
   "cell_type": "code",
   "execution_count": 1,
   "id": "71d94eab-200b-4888-b428-de472372e5d8",
   "metadata": {},
   "outputs": [
    {
     "name": "stdin",
     "output_type": "stream",
     "text": [
      "Enter age =  Ten\n"
     ]
    },
    {
     "ename": "ValueError",
     "evalue": "invalid literal for int() with base 10: 'Ten'",
     "output_type": "error",
     "traceback": [
      "\u001b[1;31m---------------------------------------------------------------------------\u001b[0m",
      "\u001b[1;31mValueError\u001b[0m                                Traceback (most recent call last)",
      "Cell \u001b[1;32mIn[1], line 1\u001b[0m\n\u001b[1;32m----> 1\u001b[0m age \u001b[38;5;241m=\u001b[39m \u001b[38;5;28mint\u001b[39m(\u001b[38;5;28minput\u001b[39m(\u001b[38;5;124m\"\u001b[39m\u001b[38;5;124mEnter age = \u001b[39m\u001b[38;5;124m\"\u001b[39m))\n",
      "\u001b[1;31mValueError\u001b[0m: invalid literal for int() with base 10: 'Ten'"
     ]
    }
   ],
   "source": [
    "age = int(input(\"Enter age = \"))"
   ]
  },
  {
   "cell_type": "code",
   "execution_count": 2,
   "id": "90a3205e-311c-4700-bad7-84bcc5ac5b4f",
   "metadata": {},
   "outputs": [
    {
     "name": "stdin",
     "output_type": "stream",
     "text": [
      "Enter age =  Ten \n"
     ]
    },
    {
     "name": "stdout",
     "output_type": "stream",
     "text": [
      "Please Enter int value\n"
     ]
    }
   ],
   "source": [
    "try:\n",
    "    age = int(input(\"Enter age = \"))\n",
    "except:\n",
    "    print(\"Please Enter int value\")"
   ]
  },
  {
   "cell_type": "code",
   "execution_count": 3,
   "id": "893cd047-6a88-48ef-ab41-497081814431",
   "metadata": {},
   "outputs": [
    {
     "name": "stdout",
     "output_type": "stream",
     "text": [
      "Beer 300 3.0 900.0\n",
      "Whisky  1000 4.0 4000.0\n",
      "beer  300 3.0 900.0\n",
      "whisky  1000 4.0 4000.0\n",
      "\n"
     ]
    }
   ],
   "source": [
    "try:\n",
    "    file = open('bill.txt','r')\n",
    "    print(file.read()) \n",
    "    file.close()\n",
    "except:\n",
    "    print(\"There is no such file\")"
   ]
  },
  {
   "cell_type": "code",
   "execution_count": 4,
   "id": "9197de74-c361-416b-94f6-3f43fbb042c8",
   "metadata": {},
   "outputs": [
    {
     "name": "stdin",
     "output_type": "stream",
     "text": [
      "Enter a =  10\n",
      "Enter b =  0\n"
     ]
    },
    {
     "name": "stdout",
     "output_type": "stream",
     "text": [
      "The value cannot be zero.\n"
     ]
    }
   ],
   "source": [
    "try:\n",
    "    a = int(input(\"Enter a = \"))\n",
    "    b = int(input(\"Enter b = \"))\n",
    "    c = a/b \n",
    "    print(c)\n",
    "except ValueError:\n",
    "    print(\"Please enter int value\")\n",
    "except ZeroDivisionError :\n",
    "    print(\"The value cannot be zero.\")"
   ]
  },
  {
   "cell_type": "code",
   "execution_count": 5,
   "id": "2e5f4ae6-77d9-4ce9-9768-e6272fd65970",
   "metadata": {},
   "outputs": [
    {
     "name": "stdin",
     "output_type": "stream",
     "text": [
      "Enter a =  10\n",
      "Enter b =  yu\n"
     ]
    },
    {
     "name": "stdout",
     "output_type": "stream",
     "text": [
      "Please enter int value\n"
     ]
    }
   ],
   "source": [
    "try:\n",
    "    a = int(input(\"Enter a = \"))\n",
    "    b = int(input(\"Enter b = \"))\n",
    "    c = a/b \n",
    "    \n",
    "except ValueError:\n",
    "    print(\"Please enter int value\")\n",
    "except ZeroDivisionError :\n",
    "    print(\"The value cannot be zero.\")\n",
    "else:\n",
    "    print(c)"
   ]
  },
  {
   "cell_type": "code",
   "execution_count": null,
   "id": "007856d0-8ab4-4b61-8af2-79f0eb6fc5e3",
   "metadata": {},
   "outputs": [],
   "source": []
  },
  {
   "cell_type": "code",
   "execution_count": 6,
   "id": "b8ce2cbb-6d51-46ed-8112-7a04933475aa",
   "metadata": {},
   "outputs": [
    {
     "name": "stdin",
     "output_type": "stream",
     "text": [
      "Enter usr =  shifhiw\n",
      "Enter pas jfhwif\n"
     ]
    },
    {
     "name": "stdout",
     "output_type": "stream",
     "text": [
      "Please enter valid username and password\n"
     ]
    }
   ],
   "source": [
    "#login \n",
    "username = \"admin\"\n",
    "password = \"admin\"\n",
    "\n",
    "try: \n",
    "    usr = input(\"Enter usr = \")\n",
    "    pas = input(\"Enter pas\")\n",
    "    if username == usr and password == pas:\n",
    "        print(\"You are logged in\")\n",
    "    else:\n",
    "        raise Exception \n",
    "except:\n",
    "    print(\"Please enter valid username and password\")"
   ]
  },
  {
   "cell_type": "code",
   "execution_count": 1,
   "id": "166d6778-b585-44e9-97a4-14fdde36dd1b",
   "metadata": {},
   "outputs": [
    {
     "name": "stdin",
     "output_type": "stream",
     "text": [
      "Enter usr =  rhfrv\n",
      "Enter pas jhfirkj\n"
     ]
    },
    {
     "name": "stdout",
     "output_type": "stream",
     "text": [
      "Please enter valid username and password\n"
     ]
    },
    {
     "name": "stdin",
     "output_type": "stream",
     "text": [
      "Enter usr =  admin\n",
      "Enter pas admin\n"
     ]
    },
    {
     "name": "stdout",
     "output_type": "stream",
     "text": [
      "You are logged in !\n"
     ]
    }
   ],
   "source": [
    "username = \"admin\"\n",
    "password = \"admin\"\n",
    "def login():\n",
    "    try: \n",
    "        usr = input(\"Enter usr = \")\n",
    "        pas = input(\"Enter pas\")\n",
    "        if username == usr and password == pas:\n",
    "            print(\"You are logged in !\")\n",
    "        else:\n",
    "            raise Exception \n",
    "    except:\n",
    "        print(\"Please enter valid username and password\")\n",
    "        login()\n",
    "login()"
   ]
  },
  {
   "cell_type": "code",
   "execution_count": 2,
   "id": "ee9b3e01-6e46-4c02-a90e-7ea1a3920c7d",
   "metadata": {},
   "outputs": [
    {
     "name": "stdin",
     "output_type": "stream",
     "text": [
      "Enter age =  17\n"
     ]
    },
    {
     "data": {
      "text/plain": [
       "False"
      ]
     },
     "execution_count": 2,
     "metadata": {},
     "output_type": "execute_result"
    }
   ],
   "source": [
    "#Assert Statement \n",
    "age = int(input(\"Enter age = \"))\n",
    "age > 20"
   ]
  },
  {
   "cell_type": "code",
   "execution_count": 3,
   "id": "956e70eb-5fed-4f2a-bf84-67d9a1207a68",
   "metadata": {},
   "outputs": [
    {
     "name": "stdin",
     "output_type": "stream",
     "text": [
      "Enter age =  15\n"
     ]
    },
    {
     "name": "stdout",
     "output_type": "stream",
     "text": [
      "You are under age\n"
     ]
    }
   ],
   "source": [
    "try:\n",
    "    age = int(input(\"Enter age = \"))\n",
    "    assert age > 20\n",
    "except:\n",
    "    print(\"You are under age\")\n",
    "else:\n",
    "    print(\"You are welcome!\")"
   ]
  },
  {
   "cell_type": "code",
   "execution_count": null,
   "id": "3883a1e4-4b57-437d-a002-5e2228787dc9",
   "metadata": {},
   "outputs": [],
   "source": []
  },
  {
   "cell_type": "code",
   "execution_count": null,
   "id": "cde00286-a1c9-457b-9ab5-6bea432920e6",
   "metadata": {},
   "outputs": [],
   "source": []
  }
 ],
 "metadata": {
  "kernelspec": {
   "display_name": "Python 3 (ipykernel)",
   "language": "python",
   "name": "python3"
  },
  "language_info": {
   "codemirror_mode": {
    "name": "ipython",
    "version": 3
   },
   "file_extension": ".py",
   "mimetype": "text/x-python",
   "name": "python",
   "nbconvert_exporter": "python",
   "pygments_lexer": "ipython3",
   "version": "3.12.7"
  }
 },
 "nbformat": 4,
 "nbformat_minor": 5
}
