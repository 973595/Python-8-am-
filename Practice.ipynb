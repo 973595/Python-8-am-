{
 "cells": [
  {
   "cell_type": "code",
   "execution_count": 1,
   "id": "705758c4-4251-4b40-9457-05152feeaee2",
   "metadata": {},
   "outputs": [],
   "source": [
    "#user defined variable "
   ]
  },
  {
   "cell_type": "code",
   "execution_count": 2,
   "id": "4ee09931-d92b-4aff-b116-c58eaaf803df",
   "metadata": {},
   "outputs": [
    {
     "name": "stdin",
     "output_type": "stream",
     "text": [
      "Enter value of a =  30\n",
      "Enter value of b =  40\n",
      "Enter value of c =  10.5\n"
     ]
    },
    {
     "name": "stdout",
     "output_type": "stream",
     "text": [
      "80.5\n"
     ]
    }
   ],
   "source": [
    "a = int(input(\"Enter value of a = \"))\n",
    "b = int(input(\"Enter value of b = \" ))\n",
    "c = float(input(\"Enter value of c = \"))\n",
    "\n",
    "print(a+b+c)"
   ]
  },
  {
   "cell_type": "code",
   "execution_count": 3,
   "id": "95a94a03-df80-45e8-b580-5ddd16c4c87c",
   "metadata": {},
   "outputs": [
    {
     "name": "stdin",
     "output_type": "stream",
     "text": [
      "Enter value of a =  30\n",
      "Enter value of b =  30\n"
     ]
    },
    {
     "name": "stdout",
     "output_type": "stream",
     "text": [
      "900\n"
     ]
    }
   ],
   "source": [
    "a = int(input(\"Enter value of a = \"))\n",
    "b = int(input(\"Enter value of b = \"))\n",
    "c = a*b\n",
    "print(c) "
   ]
  },
  {
   "cell_type": "code",
   "execution_count": 12,
   "id": "4498a089-3676-48f9-9017-22f1c567f060",
   "metadata": {},
   "outputs": [
    {
     "name": "stdin",
     "output_type": "stream",
     "text": [
      "Enter quantity of slbbl =  300\n",
      "Enter price of slbbl =  972.2\n",
      "Enter quantity of smfbs =  400\n",
      "Enter price of smfbs =  100.5\n"
     ]
    },
    {
     "name": "stdout",
     "output_type": "stream",
     "text": [
      "total_portfolio 331860.0\n"
     ]
    }
   ],
   "source": [
    "slbbl = int(input(\"Enter quantity of slbbl = \"))\n",
    "price_slbbl = float(input(\"Enter price of slbbl = \"))\n",
    "smfbs = int(input(\"Enter quantity of smfbs = \"))\n",
    "price_smfbs = float(input(\"Enter price of smfbs = \"))\n",
    "\n",
    "total_price_slbbl = slbbl * price_slbbl \n",
    "total_price_smfbs = smfbs * price_smfbs\n",
    "portfolio = slbbl*price_slbbl+smfbs*price_smfbs  \n",
    "print(\"total_portfolio\", portfolio)\n",
    "\n"
   ]
  },
  {
   "cell_type": "code",
   "execution_count": 2,
   "id": "5e89b436-3a51-44ea-a676-5d5b88260867",
   "metadata": {},
   "outputs": [
    {
     "name": "stdin",
     "output_type": "stream",
     "text": [
      "Enter p =  1000\n",
      "Enter r =  12\n",
      "Enter t =  5\n"
     ]
    },
    {
     "name": "stdout",
     "output_type": "stream",
     "text": [
      "1762.3416832000007\n"
     ]
    }
   ],
   "source": [
    "p = int(input(\"Enter p = \"))\n",
    "r = int(input(\"Enter r = \"))\n",
    "t = int(input(\"Enter t = \"))\n",
    "\n",
    "a = p * (1 + r / 100) ** t\n",
    "print(a)"
   ]
  },
  {
   "cell_type": "code",
   "execution_count": 7,
   "id": "fe298cf6-247d-4d3d-93fe-7d3e1ac80d51",
   "metadata": {},
   "outputs": [
    {
     "name": "stdin",
     "output_type": "stream",
     "text": [
      "Enter n =  5\n"
     ]
    },
    {
     "name": "stdout",
     "output_type": "stream",
     "text": [
      "1\n",
      "3\n",
      "6\n",
      "10\n",
      "15\n",
      "21\n"
     ]
    }
   ],
   "source": [
    "s = 0 \n",
    "n = int(input(\"Enter n = \"))\n",
    "for i in range(1,n+2):\n",
    "    s = s + i \n",
    "    print(s)"
   ]
  },
  {
   "cell_type": "code",
   "execution_count": 6,
   "id": "ba629818-6e66-4896-aa24-c51fb2afc463",
   "metadata": {},
   "outputs": [
    {
     "name": "stdin",
     "output_type": "stream",
     "text": [
      "Enter n =  2\n"
     ]
    },
    {
     "name": "stdout",
     "output_type": "stream",
     "text": [
      "1\n",
      "3\n",
      "6\n"
     ]
    }
   ],
   "source": [
    "s = 0 \n",
    "n = int(input(\"Enter n = \"))\n",
    "for i in range(1,n*2):\n",
    "    s = s + i\n",
    "    print(s)\n",
    "    "
   ]
  },
  {
   "cell_type": "code",
   "execution_count": 8,
   "id": "7dc8f1e1-2d0b-4f92-8a8f-2537a61b7859",
   "metadata": {},
   "outputs": [
    {
     "name": "stdin",
     "output_type": "stream",
     "text": [
      "Enter n =  2\n"
     ]
    },
    {
     "name": "stdout",
     "output_type": "stream",
     "text": [
      "2\n",
      "5\n"
     ]
    }
   ],
   "source": [
    "s = 0 \n",
    "n = int(input(\"Enter n = \"))\n",
    "for i in range(2,n*2):\n",
    "    s = s + i \n",
    "    print(s)"
   ]
  },
  {
   "cell_type": "code",
   "execution_count": null,
   "id": "d8324fff-01ee-46c1-aef3-baddad560115",
   "metadata": {},
   "outputs": [],
   "source": []
  }
 ],
 "metadata": {
  "kernelspec": {
   "display_name": "Python 3 (ipykernel)",
   "language": "python",
   "name": "python3"
  },
  "language_info": {
   "codemirror_mode": {
    "name": "ipython",
    "version": 3
   },
   "file_extension": ".py",
   "mimetype": "text/x-python",
   "name": "python",
   "nbconvert_exporter": "python",
   "pygments_lexer": "ipython3",
   "version": "3.12.7"
  }
 },
 "nbformat": 4,
 "nbformat_minor": 5
}
