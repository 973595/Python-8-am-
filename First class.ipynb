{
 "cells": [
  {
   "cell_type": "code",
   "execution_count": 2,
   "id": "907e920a-006e-4531-a771-16d40efa3076",
   "metadata": {},
   "outputs": [
    {
     "name": "stdout",
     "output_type": "stream",
     "text": [
      "10\n"
     ]
    }
   ],
   "source": [
    "a = 10 \n",
    "print(a)"
   ]
  },
  {
   "cell_type": "code",
   "execution_count": 3,
   "id": "40da4072-b2a5-4438-92b0-d3a9c416f68d",
   "metadata": {},
   "outputs": [
    {
     "name": "stdout",
     "output_type": "stream",
     "text": [
      "10\n",
      "10.5\n",
      "Hello World\n",
      "True\n",
      "10 10.5 Hello World True\n"
     ]
    }
   ],
   "source": [
    "a = 10            #int (only 0-9)\n",
    "b = 10.5          #float value (only 0-9 )\n",
    "c = 'Hello World'  # string  ( anythng between \" \"or ' ' ) \n",
    "d = True          # bool     ( only True False capital first letter )\n",
    "print(a) \n",
    "print(b) \n",
    "print (c)\n",
    "print (d) \n",
    "\n",
    "print (a,b,c,d) \n"
   ]
  },
  {
   "cell_type": "code",
   "execution_count": null,
   "id": "a3f18e76-8df4-4951-b561-deed9498e42e",
   "metadata": {},
   "outputs": [],
   "source": []
  },
  {
   "cell_type": "code",
   "execution_count": 4,
   "id": "da722e1d-888a-4e60-bdc4-d9a8eff4531c",
   "metadata": {},
   "outputs": [],
   "source": [
    "# operators in Python "
   ]
  },
  {
   "cell_type": "code",
   "execution_count": 6,
   "id": "18acbe59-f7cc-4e26-a923-2596895e0c82",
   "metadata": {},
   "outputs": [
    {
     "name": "stdout",
     "output_type": "stream",
     "text": [
      "13\n",
      "7\n",
      "30\n",
      "3.3333333333333335\n",
      "1000\n",
      "3\n",
      "1\n"
     ]
    }
   ],
   "source": [
    "a = 10 \n",
    "b = 3\n",
    "print(a+b) \n",
    "print(a-b) \n",
    "print(a*b) \n",
    "print(a/b) \n",
    "\n",
    "print(a**b)   # (a power b)\n",
    "print(a//b)   # (whole number)  \n",
    "print(a%b)    # ( reminder)\n"
   ]
  },
  {
   "cell_type": "code",
   "execution_count": 7,
   "id": "0dc8f181-3a21-4445-bc5d-2223db702355",
   "metadata": {},
   "outputs": [
    {
     "name": "stdout",
     "output_type": "stream",
     "text": [
      "HelloWorld\n"
     ]
    }
   ],
   "source": [
    "#String  # (strings can only be added)  \n",
    "a = \"Hello\"\n",
    "b = \"World\" \n",
    "c = a+b\n",
    "\n",
    "print(c)"
   ]
  },
  {
   "cell_type": "code",
   "execution_count": 9,
   "id": "9c274ed2-3fcb-4d2f-9a41-3913d3907a5e",
   "metadata": {},
   "outputs": [
    {
     "name": "stdout",
     "output_type": "stream",
     "text": [
      "Hello WorldHello World\n"
     ]
    }
   ],
   "source": [
    "a = \"Hello World\"\n",
    "print(a*2)"
   ]
  },
  {
   "cell_type": "code",
   "execution_count": 11,
   "id": "82b68e2e-abd4-4b8d-bdb4-b4f66468c720",
   "metadata": {},
   "outputs": [
    {
     "name": "stdout",
     "output_type": "stream",
     "text": [
      "0\n"
     ]
    }
   ],
   "source": [
    "a  = True \n",
    "b  =False\n",
    "c= a*b \n",
    "print(c)\n"
   ]
  },
  {
   "cell_type": "code",
   "execution_count": null,
   "id": "cd6cbd9b-f796-43c2-a605-0d700e3aabeb",
   "metadata": {},
   "outputs": [],
   "source": []
  }
 ],
 "metadata": {
  "kernelspec": {
   "display_name": "Python 3 (ipykernel)",
   "language": "python",
   "name": "python3"
  },
  "language_info": {
   "codemirror_mode": {
    "name": "ipython",
    "version": 3
   },
   "file_extension": ".py",
   "mimetype": "text/x-python",
   "name": "python",
   "nbconvert_exporter": "python",
   "pygments_lexer": "ipython3",
   "version": "3.12.7"
  }
 },
 "nbformat": 4,
 "nbformat_minor": 5
}
