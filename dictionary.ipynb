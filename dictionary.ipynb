{
 "cells": [
  {
   "cell_type": "code",
   "execution_count": null,
   "id": "3fb8b20e-4219-4b36-a910-1fcff88dd62d",
   "metadata": {},
   "outputs": [],
   "source": [
    "#dictionary \n",
    "# -indexing \n",
    "# -ordering\n",
    "# -multiple and duplicate data\n",
    "# -mutable"
   ]
  },
  {
   "cell_type": "code",
   "execution_count": 1,
   "id": "0866b3bc-3c9e-4625-aeb2-e53d3e3949a4",
   "metadata": {},
   "outputs": [
    {
     "name": "stdout",
     "output_type": "stream",
     "text": [
      "<class 'dict'>\n",
      "<class 'dict'>\n"
     ]
    }
   ],
   "source": [
    "a = {}\n",
    "b = dict()\n",
    "\n",
    "print(type(a))\n",
    "print(type(b))"
   ]
  },
  {
   "cell_type": "code",
   "execution_count": null,
   "id": "cadc8cb3-d6ed-4e2b-8a13-3b2d19ca004d",
   "metadata": {},
   "outputs": [],
   "source": [
    "# d = {<key>:<value>, <key>:<value>, <key>:<Value>}\n"
   ]
  },
  {
   "cell_type": "code",
   "execution_count": 3,
   "id": "d76048f9-4a84-43c1-8109-ccdcb69c2284",
   "metadata": {},
   "outputs": [
    {
     "name": "stdout",
     "output_type": "stream",
     "text": [
      "Apple\n",
      "Ball\n",
      "Cat\n"
     ]
    }
   ],
   "source": [
    "d = {'a':'Apple', 'b':'Ball', 'c':'Cat'}\n",
    "print(d['a'])\n",
    "print(d['b'])\n",
    "print(d['c'])"
   ]
  },
  {
   "cell_type": "code",
   "execution_count": 4,
   "id": "c118decd-1b4c-4d65-b20a-0717a45c8134",
   "metadata": {},
   "outputs": [
    {
     "name": "stdout",
     "output_type": "stream",
     "text": [
      "{'a': 'Apple', 'b': 'Ball', 'c': 'Cat'}\n"
     ]
    }
   ],
   "source": [
    "print(d)\n"
   ]
  },
  {
   "cell_type": "code",
   "execution_count": 4,
   "id": "01a1def3-587f-4b00-9286-7fb8cd011f2e",
   "metadata": {},
   "outputs": [
    {
     "name": "stdout",
     "output_type": "stream",
     "text": [
      "{'a': 'Apple', 'b': 'Ball', 'c': 'Cat', 'A': 'Apple'}\n"
     ]
    }
   ],
   "source": [
    "d = {'a':'Apple','b':'Ball','c':'Cat','A':'Apple'}\n",
    "print(d)"
   ]
  },
  {
   "cell_type": "code",
   "execution_count": 3,
   "id": "d8d78193-8845-4337-b0d0-28d2b170fb15",
   "metadata": {},
   "outputs": [
    {
     "name": "stdout",
     "output_type": "stream",
     "text": [
      "{'a': 'Apple', 'b': 'Ball', 'c': 'Cat'}\n"
     ]
    }
   ],
   "source": [
    "#adding value on dictionary \n",
    "d = {}\n",
    "d['a'] = 'Apple'\n",
    "d['b'] = 'Ball'\n",
    "d['c'] = 'Cat'\n",
    "print(d)\n"
   ]
  },
  {
   "cell_type": "code",
   "execution_count": 5,
   "id": "93ee9e13-9438-4213-81ec-6f877c449d70",
   "metadata": {},
   "outputs": [
    {
     "name": "stdout",
     "output_type": "stream",
     "text": [
      "{'a': 'Ant', 'b': 'Ball', 'c': 'Cat', 'A': 'Apple'}\n"
     ]
    }
   ],
   "source": [
    "#updating value on dictionary \n",
    "dic = {'a':'Apple','b':'Ball','c':'Cat','A':'Apple'}\n",
    "dic['a'] = 'Ant'\n",
    "print(dic)"
   ]
  },
  {
   "cell_type": "code",
   "execution_count": 6,
   "id": "5291c1ef-ea28-4ffc-b724-dec7e565f091",
   "metadata": {},
   "outputs": [
    {
     "name": "stdout",
     "output_type": "stream",
     "text": [
      "a\n",
      "b\n",
      "c\n",
      "A\n"
     ]
    }
   ],
   "source": [
    "#dictionary on loop \n",
    "a = {'a':'Apple','b':'Ball','c':'Cat','A':'Apple'}\n",
    "for i in a:\n",
    "    print(i)"
   ]
  },
  {
   "cell_type": "code",
   "execution_count": 11,
   "id": "d630133f-b795-4bdc-9e84-bc260d79d84a",
   "metadata": {},
   "outputs": [
    {
     "name": "stdout",
     "output_type": "stream",
     "text": [
      "Apple\n",
      "Ball\n",
      "Cat\n",
      "Apple\n"
     ]
    }
   ],
   "source": [
    "d = {'a':'Apple','b':'Ball','c':'Cat','A':'Apple'}\n",
    "for i in a.values():\n",
    "    print(i)"
   ]
  },
  {
   "cell_type": "code",
   "execution_count": 10,
   "id": "f79c0dcb-45a0-411c-82be-a09c5f329aa4",
   "metadata": {
    "scrolled": true
   },
   "outputs": [
    {
     "name": "stdout",
     "output_type": "stream",
     "text": [
      "('a', 'Apple')\n",
      "('b', 'Ball')\n",
      "('c', 'Cat')\n",
      "('A', 'Apple')\n"
     ]
    }
   ],
   "source": [
    "d = {'a':'Apple','b':'Ball','c':'Cat','A':'Apple'}\n",
    "for i in a.items():\n",
    "    print(i)"
   ]
  },
  {
   "cell_type": "code",
   "execution_count": 12,
   "id": "52cf3426-fe7e-46a7-bbc7-0984bcc6a8b0",
   "metadata": {},
   "outputs": [
    {
     "name": "stdout",
     "output_type": "stream",
     "text": [
      "{'a': 'Apple', 'b': 'Ball', 'c': 'Cat'}\n"
     ]
    }
   ],
   "source": [
    "l = [['a','Apple'],\n",
    "    ['b','Ball'],\n",
    "    ['c','Cat']]\n",
    "dic = dict(l)\n",
    "print(dic)\n"
   ]
  },
  {
   "cell_type": "code",
   "execution_count": 14,
   "id": "0ac45dc0-574d-4562-8c11-f1de6c6b1c53",
   "metadata": {},
   "outputs": [
    {
     "name": "stdin",
     "output_type": "stream",
     "text": [
      "Enter n =  2 \n",
      "Enter name =  Ram \n",
      "Enter phone =  905824422492\n",
      "Enter name =  Shyam\n",
      "Enter phone =  9238408382\n"
     ]
    },
    {
     "name": "stdout",
     "output_type": "stream",
     "text": [
      "{'Ram ': '905824422492', 'Shyam': '9238408382'}\n"
     ]
    }
   ],
   "source": [
    "#create \n",
    "d = {}\n",
    "n = int(input(\"Enter n = \"))\n",
    "for i in range(n):\n",
    "    name = input(\"Enter name = \")\n",
    "    phone = input(\"Enter phone = \")\n",
    "    d[name] = phone\n",
    "\n",
    "print(d)"
   ]
  },
  {
   "cell_type": "code",
   "execution_count": 17,
   "id": "374c2870-5096-4457-847d-37b83b0278aa",
   "metadata": {},
   "outputs": [
    {
     "data": {
      "text/plain": [
       "{'Ram': '98058583595', 'Shyam': '9238408382'}"
      ]
     },
     "execution_count": 17,
     "metadata": {},
     "output_type": "execute_result"
    }
   ],
   "source": [
    "#update \n",
    "d = {'Ram': '905824422492', 'Shyam': '9238408382'}\n",
    "d['Ram'] = '98058583595'\n",
    "d"
   ]
  },
  {
   "cell_type": "code",
   "execution_count": 18,
   "id": "8815bd75-f31e-46b1-848c-eb6e664beca8",
   "metadata": {},
   "outputs": [
    {
     "name": "stdout",
     "output_type": "stream",
     "text": [
      "{'Shyam': '9238408382'}\n"
     ]
    }
   ],
   "source": [
    "# delete \n",
    "#del pop()\n",
    "d = {'Ram': '98058583595', 'Shyam': '9238408382'}\n",
    "del d['Ram']\n",
    "print(d)"
   ]
  },
  {
   "cell_type": "code",
   "execution_count": 20,
   "id": "85b295b9-9845-48bc-9a06-14818c675410",
   "metadata": {},
   "outputs": [
    {
     "name": "stdout",
     "output_type": "stream",
     "text": [
      "{'Ram': '98058583595'}\n"
     ]
    }
   ],
   "source": [
    "d = {'Ram': '98058583595', 'Shyam': '9238408382'}\n",
    "d.pop('Shyam')\n",
    "print(d)"
   ]
  },
  {
   "cell_type": "code",
   "execution_count": 21,
   "id": "4427be32-4c2c-43fc-ab76-c9c59e826e90",
   "metadata": {},
   "outputs": [
    {
     "name": "stdout",
     "output_type": "stream",
     "text": [
      "{'Ram': '98058583595'}\n",
      "9238408382\n"
     ]
    }
   ],
   "source": [
    "d = {'Ram': '98058583595', 'Shyam': '9238408382'}\n",
    "b = d.pop('Shyam')\n",
    "print(d)\n",
    "print(b) "
   ]
  },
  {
   "cell_type": "code",
   "execution_count": 22,
   "id": "01de238f-0e46-475f-9945-db5c33abe4b4",
   "metadata": {},
   "outputs": [
    {
     "data": {
      "text/plain": [
       "{'Ram': [984373975793, 985573795377], 'Shyam': [9843598945, 98587423923]}"
      ]
     },
     "execution_count": 22,
     "metadata": {},
     "output_type": "execute_result"
    }
   ],
   "source": [
    "info = {'Ram': [984373975793,985573795377],\n",
    "        'Shyam':[9843598945,98587423923]}\n",
    "info"
   ]
  },
  {
   "cell_type": "code",
   "execution_count": 25,
   "id": "3c22a4b1-9ae6-4b02-8da3-1d9089c9b0c0",
   "metadata": {},
   "outputs": [
    {
     "data": {
      "text/plain": [
       "{'name': ['Ram', 'Shyam'],\n",
       " 'ntc': [9856862772, 98563928929],\n",
       " 'ncell': [980823289392, 980872792479]}"
      ]
     },
     "execution_count": 25,
     "metadata": {},
     "output_type": "execute_result"
    }
   ],
   "source": [
    "info = {'name':['Ram','Shyam'],\n",
    "        'ntc':[9856862772,98563928929],\n",
    "        'ncell':[980823289392,980872792479]}\n",
    "info"
   ]
  },
  {
   "cell_type": "code",
   "execution_count": 26,
   "id": "6bd8217e-8e18-49f6-b20e-9dc3de8aada5",
   "metadata": {},
   "outputs": [
    {
     "name": "stdout",
     "output_type": "stream",
     "text": [
      "Ram\n",
      "9856862772\n",
      "980823289392\n"
     ]
    }
   ],
   "source": [
    "print(info['name'][0])\n",
    "print(info['ntc'][0])\n",
    "print(info['ncell'][0])\n"
   ]
  },
  {
   "cell_type": "code",
   "execution_count": 27,
   "id": "97da0f19-c97a-4d28-802f-33aab55ff848",
   "metadata": {},
   "outputs": [
    {
     "name": "stdin",
     "output_type": "stream",
     "text": [
      "Enter index =  0\n"
     ]
    },
    {
     "name": "stdout",
     "output_type": "stream",
     "text": [
      "Ram\n",
      "9856862772\n",
      "980823289392\n"
     ]
    }
   ],
   "source": [
    "#read\n",
    "i = int(input(\"Enter index = \"))\n",
    "info = {'name':['Ram','Shyam'],\n",
    "        'ntc':[9856862772,98563928929],\n",
    "        'ncell':[980823289392,980872792479]}\n",
    "print(info['name'][0])\n",
    "print(info['ntc'][0])\n",
    "print(info['ncell'][0])\n"
   ]
  },
  {
   "cell_type": "code",
   "execution_count": 31,
   "id": "ebd45a23-860f-4bbc-9969-a23cd253b6ef",
   "metadata": {},
   "outputs": [
    {
     "name": "stdin",
     "output_type": "stream",
     "text": [
      "Enter n =  2\n",
      "Enter name =  Ram \n",
      "Enter ntc =  9841940340\n",
      "Enter ncell =  985321029102\n",
      "Enter name =  Shyam \n",
      "Enter ntc =  9841490039404\n",
      "Enter ncell =  9853834343478\n"
     ]
    },
    {
     "name": "stdout",
     "output_type": "stream",
     "text": [
      "{'name': ['Ram ', 'Shyam '], 'ntc': ['9841940340', '9841490039404'], 'ncell': ['985321029102', '9853834343478']}\n"
     ]
    }
   ],
   "source": [
    "info = {'name':[],\n",
    "        'ntc':[],\n",
    "        'ncell':[]}\n",
    "n = int(input(\"Enter n = \"))\n",
    "for i in range(n):\n",
    "    name = input(\"Enter name = \")\n",
    "    ntc = input(\"Enter ntc = \")\n",
    "    ncell = input(\"Enter ncell = \")\n",
    "    info['name'].append(name)\n",
    "    info['ntc'].append(ntc)\n",
    "    info['ncell'].append(ncell)\n",
    "\n",
    "print(info)"
   ]
  },
  {
   "cell_type": "code",
   "execution_count": null,
   "id": "af008a12-29b0-4e83-9856-1b673253dd1c",
   "metadata": {},
   "outputs": [],
   "source": [
    "#WAP to take data from user and create dict inside list also do CRUD \n",
    "#WAP to take data from user and create dict inside dict also do CRUD "
   ]
  },
  {
   "cell_type": "code",
   "execution_count": null,
   "id": "139cc77a-549a-477b-9f20-71ac0247430b",
   "metadata": {},
   "outputs": [],
   "source": []
  },
  {
   "cell_type": "code",
   "execution_count": null,
   "id": "bee32eaa-59a4-4fbd-850a-43dcf264d31e",
   "metadata": {},
   "outputs": [],
   "source": []
  }
 ],
 "metadata": {
  "kernelspec": {
   "display_name": "Python 3 (ipykernel)",
   "language": "python",
   "name": "python3"
  },
  "language_info": {
   "codemirror_mode": {
    "name": "ipython",
    "version": 3
   },
   "file_extension": ".py",
   "mimetype": "text/x-python",
   "name": "python",
   "nbconvert_exporter": "python",
   "pygments_lexer": "ipython3",
   "version": "3.12.7"
  }
 },
 "nbformat": 4,
 "nbformat_minor": 5
}
