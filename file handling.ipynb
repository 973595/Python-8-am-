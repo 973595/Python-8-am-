{
 "cells": [
  {
   "cell_type": "code",
   "execution_count": null,
   "id": "d42d202e-72b0-4bc2-ae14-b4a5aa522864",
   "metadata": {},
   "outputs": [],
   "source": [
    "#file handling\n",
    "\n",
    "# file = open('<file_name>','mode')\n",
    "# file cloe()\n",
    "\n",
    "# with open('<file name>,'mode')as file:\n",
    "#           <operations>\n",
    "\n",
    "# modes \n",
    "# x -> create\n",
    "# r -> read \n",
    "# w -> write \n",
    "# a -> append\n",
    "          "
   ]
  },
  {
   "cell_type": "code",
   "execution_count": 3,
   "id": "6fca53db-f895-4c60-82b6-f45e7af8a602",
   "metadata": {},
   "outputs": [
    {
     "ename": "FileExistsError",
     "evalue": "[Errno 17] File exists: 'data.txt'",
     "output_type": "error",
     "traceback": [
      "\u001b[1;31m---------------------------------------------------------------------------\u001b[0m",
      "\u001b[1;31mFileExistsError\u001b[0m                           Traceback (most recent call last)",
      "Cell \u001b[1;32mIn[3], line 1\u001b[0m\n\u001b[1;32m----> 1\u001b[0m file \u001b[38;5;241m=\u001b[39m \u001b[38;5;28mopen\u001b[39m(\u001b[38;5;124m'\u001b[39m\u001b[38;5;124mdata.txt\u001b[39m\u001b[38;5;124m'\u001b[39m,\u001b[38;5;124m'\u001b[39m\u001b[38;5;124mx\u001b[39m\u001b[38;5;124m'\u001b[39m)\n\u001b[0;32m      2\u001b[0m file\u001b[38;5;241m.\u001b[39mclose()\n",
      "File \u001b[1;32m~\\anaconda3\\Lib\\site-packages\\IPython\\core\\interactiveshell.py:324\u001b[0m, in \u001b[0;36m_modified_open\u001b[1;34m(file, *args, **kwargs)\u001b[0m\n\u001b[0;32m    317\u001b[0m \u001b[38;5;28;01mif\u001b[39;00m file \u001b[38;5;129;01min\u001b[39;00m {\u001b[38;5;241m0\u001b[39m, \u001b[38;5;241m1\u001b[39m, \u001b[38;5;241m2\u001b[39m}:\n\u001b[0;32m    318\u001b[0m     \u001b[38;5;28;01mraise\u001b[39;00m \u001b[38;5;167;01mValueError\u001b[39;00m(\n\u001b[0;32m    319\u001b[0m         \u001b[38;5;124mf\u001b[39m\u001b[38;5;124m\"\u001b[39m\u001b[38;5;124mIPython won\u001b[39m\u001b[38;5;124m'\u001b[39m\u001b[38;5;124mt let you open fd=\u001b[39m\u001b[38;5;132;01m{\u001b[39;00mfile\u001b[38;5;132;01m}\u001b[39;00m\u001b[38;5;124m by default \u001b[39m\u001b[38;5;124m\"\u001b[39m\n\u001b[0;32m    320\u001b[0m         \u001b[38;5;124m\"\u001b[39m\u001b[38;5;124mas it is likely to crash IPython. If you know what you are doing, \u001b[39m\u001b[38;5;124m\"\u001b[39m\n\u001b[0;32m    321\u001b[0m         \u001b[38;5;124m\"\u001b[39m\u001b[38;5;124myou can use builtins\u001b[39m\u001b[38;5;124m'\u001b[39m\u001b[38;5;124m open.\u001b[39m\u001b[38;5;124m\"\u001b[39m\n\u001b[0;32m    322\u001b[0m     )\n\u001b[1;32m--> 324\u001b[0m \u001b[38;5;28;01mreturn\u001b[39;00m io_open(file, \u001b[38;5;241m*\u001b[39margs, \u001b[38;5;241m*\u001b[39m\u001b[38;5;241m*\u001b[39mkwargs)\n",
      "\u001b[1;31mFileExistsError\u001b[0m: [Errno 17] File exists: 'data.txt'"
     ]
    }
   ],
   "source": [
    "file = open('data.txt','x')\n",
    "file.close()"
   ]
  },
  {
   "cell_type": "code",
   "execution_count": 1,
   "id": "1da9fb2a-9a98-4d92-b08d-d3acad54d7d2",
   "metadata": {},
   "outputs": [
    {
     "data": {
      "text/plain": [
       "'C:\\\\Users\\\\dell\\\\Python 8 am'"
      ]
     },
     "execution_count": 1,
     "metadata": {},
     "output_type": "execute_result"
    }
   ],
   "source": [
    "#pwd"
   ]
  },
  {
   "cell_type": "code",
   "execution_count": 10,
   "id": "f901946a-3746-4c8d-854a-91117937fe6f",
   "metadata": {},
   "outputs": [
    {
     "name": "stdout",
     "output_type": "stream",
     "text": [
      "1 Hello World \n",
      "2 Hello World \n",
      "3 Hello World \n",
      "4 Hello World \n",
      "\n"
     ]
    }
   ],
   "source": [
    "file = open('data.txt','r')\n",
    "data = file.read()\n",
    "file.close()\n",
    "print(data)"
   ]
  },
  {
   "cell_type": "code",
   "execution_count": 15,
   "id": "7439f328-7980-4894-833f-4f46edf674f0",
   "metadata": {},
   "outputs": [
    {
     "data": {
      "text/plain": [
       "['1 Hello World ', '2 Hello World ', '3 Hello World ', '4 Hello World ', '']"
      ]
     },
     "execution_count": 15,
     "metadata": {},
     "output_type": "execute_result"
    }
   ],
   "source": [
    "data.split('\\n')"
   ]
  },
  {
   "cell_type": "code",
   "execution_count": 9,
   "id": "0ca1a6c4-26f8-4387-a48c-292d6bf467bf",
   "metadata": {},
   "outputs": [
    {
     "name": "stdin",
     "output_type": "stream",
     "text": [
      "Enter n =  2\n"
     ]
    },
    {
     "data": {
      "text/plain": [
       "'2 Hello World '"
      ]
     },
     "execution_count": 9,
     "metadata": {},
     "output_type": "execute_result"
    }
   ],
   "source": [
    "n = int(input(\"Enter n = \"))\n",
    "lines = data.split(\"\\n\")\n",
    "lines[n-1]\n"
   ]
  },
  {
   "cell_type": "code",
   "execution_count": 17,
   "id": "b6f6e205-3247-4194-90d9-293b4d70439b",
   "metadata": {},
   "outputs": [],
   "source": [
    "#write mode\n",
    "file = open('newdata.txt','w')\n",
    "file.write('Hello World I am Python')\n",
    "file.close()"
   ]
  },
  {
   "cell_type": "code",
   "execution_count": 19,
   "id": "da98a020-30d4-4357-b31c-d53c081d8eff",
   "metadata": {},
   "outputs": [
    {
     "name": "stdin",
     "output_type": "stream",
     "text": [
      "Enter n =  2\n",
      "Enter product name =  Beer\n",
      "Enter price =  300\n",
      "Enter quantity =  3\n",
      "Enter product name =  Whisky \n",
      "Enter price =  1000\n",
      "Enter quantity =  4\n"
     ]
    },
    {
     "name": "stdout",
     "output_type": "stream",
     "text": [
      "Beer 300 3.0 900.0\n",
      "Whisky  1000 4.0 4000.0\n",
      "\n"
     ]
    }
   ],
   "source": [
    "bill = \"\"\n",
    "n = int(input(\"Enter n = \"))\n",
    "for i in range(n):\n",
    "    product = input(\"Enter product name = \")\n",
    "    price = int(input(\"Enter price = \"))\n",
    "    qty = float(input(\"Enter quantity = \"))\n",
    "    total = price*qty \n",
    "    x = f\"{product} {price} {qty} {total}\\n\"\n",
    "    bill = bill + x\n",
    "print(bill)\n",
    "\n",
    "file = open('bill.txt','w')\n",
    "file.write(bill)\n",
    "file.close()\n"
   ]
  },
  {
   "cell_type": "code",
   "execution_count": 20,
   "id": "961f955c-2c30-44e0-b8ce-e872c247a24f",
   "metadata": {},
   "outputs": [
    {
     "name": "stdin",
     "output_type": "stream",
     "text": [
      "Enter n =  2\n",
      "Enter product name =  beer \n",
      "Enter price =  300\n",
      "Enter quantity =  3\n",
      "Enter product name =  whisky \n",
      "Enter price =  1000\n",
      "Enter quantity =  4\n"
     ]
    },
    {
     "name": "stdout",
     "output_type": "stream",
     "text": [
      "beer  300 3.0 900.0\n",
      "whisky  1000 4.0 4000.0\n",
      "\n"
     ]
    }
   ],
   "source": [
    "bill = \"\"\n",
    "n = int(input(\"Enter n = \"))\n",
    "for i in range(n):\n",
    "    product = input(\"Enter product name = \")\n",
    "    price = int(input(\"Enter price = \"))\n",
    "    qty = float(input(\"Enter quantity = \"))\n",
    "    total = price*qty \n",
    "    x = f\"{product} {price} {qty} {total}\\n\"\n",
    "    bill = bill + x\n",
    "print(bill)\n",
    "\n",
    "file = open('bill.txt','a')\n",
    "file.write(bill)\n",
    "file.close()\n"
   ]
  },
  {
   "cell_type": "code",
   "execution_count": 21,
   "id": "e8faf2bc-bd27-41ba-be67-d7a8e8998053",
   "metadata": {},
   "outputs": [
    {
     "data": {
      "text/plain": [
       "'Beer 300 3.0 900.0\\nWhisky  1000 4.0 4000.0\\nbeer  300 3.0 900.0\\nwhisky  1000 4.0 4000.0\\n'"
      ]
     },
     "execution_count": 21,
     "metadata": {},
     "output_type": "execute_result"
    }
   ],
   "source": [
    "file = open('bill.txt','r')\n",
    "data = file.read()\n",
    "file.close()\n",
    "data "
   ]
  },
  {
   "cell_type": "code",
   "execution_count": 23,
   "id": "00318f5e-549e-46b3-b8bf-9d6cad9a91c6",
   "metadata": {},
   "outputs": [
    {
     "name": "stdout",
     "output_type": "stream",
     "text": [
      "['Beer 300 3.0 900.0']\n",
      "['Whisky  1000 4.0 4000.0']\n",
      "['beer  300 3.0 900.0']\n",
      "['whisky  1000 4.0 4000.0']\n",
      "['']\n"
     ]
    }
   ],
   "source": [
    "data_list = data.split(\"\\n\")\n",
    "for i in data_list:\n",
    "    print(i.split(\"\\t\"))"
   ]
  },
  {
   "cell_type": "code",
   "execution_count": 27,
   "id": "80d7e2bf-8333-4f6b-90e8-302bd2ba1b06",
   "metadata": {},
   "outputs": [
    {
     "name": "stdout",
     "output_type": "stream",
     "text": [
      "['Beer 300 3.0 900.0']\n",
      "['Whisky  1000 4.0 4000.0']\n",
      "['beer  300 3.0 900.0']\n",
      "['whisky  1000 4.0 4000.0']\n"
     ]
    },
    {
     "data": {
      "text/plain": [
       "[['Beer 300 3.0 900.0'],\n",
       " ['Whisky  1000 4.0 4000.0'],\n",
       " ['beer  300 3.0 900.0'],\n",
       " ['whisky  1000 4.0 4000.0']]"
      ]
     },
     "execution_count": 27,
     "metadata": {},
     "output_type": "execute_result"
    }
   ],
   "source": [
    "final_list = []\n",
    "data_list = data.split(\"\\n\")[0:-1]\n",
    "\n",
    "for i in data_list:\n",
    "    x = i.split(\"\\t\")\n",
    "    print(x)\n",
    "    final_list.append(x)\n",
    "\n",
    "final_list"
   ]
  },
  {
   "cell_type": "code",
   "execution_count": 31,
   "id": "bdccd87e-ff62-493b-a4a8-0deb87dd7ddb",
   "metadata": {},
   "outputs": [
    {
     "name": "stdin",
     "output_type": "stream",
     "text": [
      "Enter n =  2\n",
      "Enter product name =  Ball \n",
      "Enter price =  33333\n",
      "Enter quantity =  3\n",
      "Enter product name =  bat \n",
      "Enter price =  33323\n",
      "Enter quantity =  4\n"
     ]
    },
    {
     "name": "stdout",
     "output_type": "stream",
     "text": [
      "Ball ,33333,3.0,99999.0\n",
      "bat ,33323,4.0,133292.0\n",
      "\n"
     ]
    }
   ],
   "source": [
    "bill = \"\"\n",
    "n = int(input(\"Enter n = \"))\n",
    "for i in range(n):\n",
    "    product = input(\"Enter product name = \")\n",
    "    price = int(input(\"Enter price = \"))\n",
    "    qty = float(input(\"Enter quantity = \"))\n",
    "    total = price*qty \n",
    "    x = f\"{product},{price},{qty},{total}\\n\"\n",
    "    bill = bill + x\n",
    "print(bill)\n",
    "\n",
    "file = open('bill.csv','w')\n",
    "file.write('product,price,quantity,total\\n')\n",
    "file.write(bill)\n",
    "file.close()"
   ]
  },
  {
   "cell_type": "code",
   "execution_count": 32,
   "id": "f6e5fa96-1f3f-4e57-a54b-bc77e1d1ae4d",
   "metadata": {},
   "outputs": [
    {
     "data": {
      "text/plain": [
       "'C:\\\\Users\\\\dell\\\\Python 8 am'"
      ]
     },
     "execution_count": 32,
     "metadata": {},
     "output_type": "execute_result"
    }
   ],
   "source": [
    "pwd"
   ]
  },
  {
   "cell_type": "code",
   "execution_count": null,
   "id": "6f6e7016-7d7c-402b-a5db-764033832870",
   "metadata": {},
   "outputs": [],
   "source": []
  }
 ],
 "metadata": {
  "kernelspec": {
   "display_name": "Python 3 (ipykernel)",
   "language": "python",
   "name": "python3"
  },
  "language_info": {
   "codemirror_mode": {
    "name": "ipython",
    "version": 3
   },
   "file_extension": ".py",
   "mimetype": "text/x-python",
   "name": "python",
   "nbconvert_exporter": "python",
   "pygments_lexer": "ipython3",
   "version": "3.12.7"
  }
 },
 "nbformat": 4,
 "nbformat_minor": 5
}
