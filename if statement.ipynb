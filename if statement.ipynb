{
 "cells": [
  {
   "cell_type": "code",
   "execution_count": null,
   "id": "d29be066-bf4b-4b3d-8b4f-24c046869f27",
   "metadata": {},
   "outputs": [],
   "source": [
    "if <condition>:\n",
    "   <operations>\n",
    "elif <conditions>:\n",
    "    <operations>\n",
    "\n",
    "...\n",
    "else:\n",
    "    <operations>\n"
   ]
  },
  {
   "cell_type": "code",
   "execution_count": null,
   "id": "6bac2835-7560-4f36-8a97-1e0e4b0bc6b7",
   "metadata": {},
   "outputs": [],
   "source": [
    "< > <= >= == !="
   ]
  },
  {
   "cell_type": "code",
   "execution_count": 3,
   "id": "78dc2a47-1d8d-488d-b145-535ccfff7bf4",
   "metadata": {},
   "outputs": [
    {
     "name": "stdout",
     "output_type": "stream",
     "text": [
      "a is +ve number\n"
     ]
    }
   ],
   "source": [
    "a = 10 \n",
    "if a>=0:\n",
    "    print(\"a is +ve number\")\n",
    "else:\n",
    "    print(\"a is -ve number\")"
   ]
  },
  {
   "cell_type": "code",
   "execution_count": 7,
   "id": "2d36c32d-7d58-4684-8fbc-2c31097416e2",
   "metadata": {},
   "outputs": [
    {
     "name": "stdin",
     "output_type": "stream",
     "text": [
      "Enter a =  -10\n"
     ]
    },
    {
     "name": "stdout",
     "output_type": "stream",
     "text": [
      "a is -ve number\n"
     ]
    }
   ],
   "source": [
    "a = int(input(\"Enter a = \"))\n",
    "if a>=0:\n",
    "    print(\"a is +ve number\")\n",
    "else:\n",
    "    print(\"a is -ve number\")\n",
    "    "
   ]
  },
  {
   "cell_type": "code",
   "execution_count": 8,
   "id": "53ca94a5-97a8-46d0-bc1c-a1d279306233",
   "metadata": {},
   "outputs": [
    {
     "name": "stdin",
     "output_type": "stream",
     "text": [
      "Enter a =  10\n"
     ]
    },
    {
     "name": "stdout",
     "output_type": "stream",
     "text": [
      "this is even no\n"
     ]
    }
   ],
   "source": [
    "a = int(input(\"Enter a = \"))\n",
    "if a%2==0:\n",
    "    print(\"this is even no\")\n",
    "\n",
    "else:\n",
    "    print(\"this is odd no\")\n"
   ]
  },
  {
   "cell_type": "code",
   "execution_count": 12,
   "id": "d3d671fa-3272-4efb-bcf3-c9c6f61989e6",
   "metadata": {},
   "outputs": [
    {
     "name": "stdin",
     "output_type": "stream",
     "text": [
      "Enter value of a =  10\n",
      "Enter value of b =  10\n"
     ]
    },
    {
     "name": "stdout",
     "output_type": "stream",
     "text": [
      "both are equal\n"
     ]
    }
   ],
   "source": [
    "\n",
    "a = int(input(\"Enter value of a = \"))\n",
    "b = int(input(\"Enter value of b = \"))\n",
    "\n",
    "if a>b:\n",
    "    print(\"a is greater than b\")\n",
    "\n",
    "elif b>a:\n",
    "    print(\"b is greater than a\")\n",
    "\n",
    "else:\n",
    "    print(\"both are equal\")"
   ]
  },
  {
   "cell_type": "code",
   "execution_count": 31,
   "id": "196d181a-4495-4f1e-9aae-740d1423de65",
   "metadata": {},
   "outputs": [
    {
     "name": "stdin",
     "output_type": "stream",
     "text": [
      "Enter physics marks =  90\n",
      "Enter chemistry marks =  96\n",
      "Enter nepali marks =  86\n",
      "Enter math marks =  75\n",
      "Enter english marks =  100\n"
     ]
    },
    {
     "name": "stdout",
     "output_type": "stream",
     "text": [
      "the total marks =  447\n",
      "the per =  89.4 %\n",
      "the grade =  A\n"
     ]
    }
   ],
   "source": [
    "physics = int(input(\"Enter physics marks = \"))\n",
    "chemistry = int(input(\"Enter chemistry marks = \"))\n",
    "nepali = int(input(\"Enter nepali marks = \"))\n",
    "math = int(input(\"Enter math marks = \"))\n",
    "english = int(input(\"Enter english marks = \")) \n",
    "\n",
    "total_marks= physics+chemistry+nepali+math+english\n",
    "per = total_marks/5 \n",
    "\n",
    "if per >=80:\n",
    "    grade = \"A\"\n",
    "\n",
    "elif per >=60:\n",
    "    grade = \"B\"\n",
    "\n",
    "elif per >=50:\n",
    "    grade = \"C\"\n",
    "\n",
    "else:\n",
    "     grade = \"F\"\n",
    "\n",
    "print(\"the total marks = \",total_marks)\n",
    "print(\"the per = \",per,\"%\")\n",
    "print(\"the grade = \",grade)"
   ]
  },
  {
   "cell_type": "code",
   "execution_count": 19,
   "id": "2b4c3d42-d585-4e1b-b557-466a68de867c",
   "metadata": {},
   "outputs": [],
   "source": [
    "#WAP to create a basic calculator "
   ]
  },
  {
   "cell_type": "code",
   "execution_count": 21,
   "id": "f2ef5599-b43e-41c6-af3b-c26258983b2e",
   "metadata": {},
   "outputs": [
    {
     "name": "stdin",
     "output_type": "stream",
     "text": [
      "Enter a =  10\n",
      "Enter b =  20\n",
      "Enter + or - or / or *  +\n"
     ]
    },
    {
     "name": "stdout",
     "output_type": "stream",
     "text": [
      "30\n"
     ]
    }
   ],
   "source": [
    "a = int(input(\"Enter a = \"))\n",
    "b = int(input(\"Enter b = \"))\n",
    "o = input(\"Enter + or - or / or * \")\n",
    "if o == '+':\n",
    "    print(a+b)\n",
    "\n",
    "elif o == '-':\n",
    "    print(a-b)\n",
    "\n",
    "elif o == '*':\n",
    "    print(a*b)\n",
    "\n",
    "elif o == '/':\n",
    "    print(a/b)\n",
    "\n",
    "else:\n",
    "    print('Invalid Operator')\n"
   ]
  },
  {
   "cell_type": "code",
   "execution_count": 22,
   "id": "9d0c403d-5c73-41cf-9fbd-9909b69ad803",
   "metadata": {},
   "outputs": [],
   "source": [
    "# logical operator \n",
    "# and &\n",
    "# or /"
   ]
  },
  {
   "cell_type": "code",
   "execution_count": 23,
   "id": "f52f2079-2cd3-4626-80dc-381acf1b5b17",
   "metadata": {},
   "outputs": [
    {
     "name": "stdout",
     "output_type": "stream",
     "text": [
      "True\n",
      "False\n",
      "False\n",
      "False\n"
     ]
    }
   ],
   "source": [
    "print(True and True)\n",
    "print(True and False)\n",
    "print(False and True)\n",
    "print(False and False)"
   ]
  },
  {
   "cell_type": "code",
   "execution_count": 25,
   "id": "88866b94-ba14-4f9f-bee1-12fb98efde52",
   "metadata": {},
   "outputs": [
    {
     "name": "stdout",
     "output_type": "stream",
     "text": [
      "True\n",
      "True\n",
      "True\n",
      "False\n"
     ]
    }
   ],
   "source": [
    "print(True or True)\n",
    "print(True or False)\n",
    "print(False or True)\n",
    "print(False or False)"
   ]
  },
  {
   "cell_type": "code",
   "execution_count": 34,
   "id": "b7966185-9523-40c6-ba00-c53815beb31d",
   "metadata": {},
   "outputs": [
    {
     "name": "stdin",
     "output_type": "stream",
     "text": [
      "Enter a =  12\n",
      "Enter b =  23\n",
      "Enter + or - or / or *  +\n"
     ]
    },
    {
     "name": "stdout",
     "output_type": "stream",
     "text": [
      "35\n"
     ]
    }
   ],
   "source": [
    "a = int(input(\"Enter a = \"))\n",
    "b = int(input(\"Enter b = \"))\n",
    "o = input(\"Enter + or - or / or * \")\n",
    "if o == '+':\n",
    "    print(a+b)\n",
    "\n",
    "elif o == '-':\n",
    "    print(a-b)\n",
    "\n",
    "elif o == '*':\n",
    "    print(a*b)\n",
    "\n",
    "elif o == '/' and b != 0:\n",
    "    print(a/b)\n",
    "\n",
    "elif o == '/' and b == 0:\n",
    "    print('there is an error')\n",
    "      \n",
    "else:\n",
    "    print('Invalid Operator')\n",
    "    \n"
   ]
  },
  {
   "cell_type": "code",
   "execution_count": 1,
   "id": "a52d8652-b21b-45d8-a120-5236877fbdcb",
   "metadata": {},
   "outputs": [],
   "source": [
    "#chain condition\n",
    "#nested if else"
   ]
  },
  {
   "cell_type": "code",
   "execution_count": null,
   "id": "4d335efe-cfd7-4032-ac39-7ee5fa7e477b",
   "metadata": {},
   "outputs": [],
   "source": [
    "#nested if else \n",
    "if <condition>:\n",
    "    if <condition>:\n",
    "        <operation>\n",
    "        \n",
    "    else:\n",
    "        <operation>\n",
    "        \n",
    "else:\n",
    "    if <condition>:\n",
    "        <operation>\n",
    "    else:\n",
    "        <operation>\n",
    "        \n",
    "\n",
    "    \n",
    "\n",
    "    "
   ]
  },
  {
   "cell_type": "code",
   "execution_count": 2,
   "id": "66126aa5-a85e-4916-817e-0725d0cd3caa",
   "metadata": {},
   "outputs": [
    {
     "name": "stdin",
     "output_type": "stream",
     "text": [
      "Enter n =  -5\n"
     ]
    },
    {
     "name": "stdout",
     "output_type": "stream",
     "text": [
      "The no is -ve and odd\n"
     ]
    }
   ],
   "source": [
    "n = int(input(\"Enter n = \"))\n",
    "if n >= 0:\n",
    "    if n%2==0:\n",
    "        print(\"The no is +ve and evenr\")\n",
    "\n",
    "    else:\n",
    "        print(\"The no is +ve and odd\")\n",
    "\n",
    "else:\n",
    "    if n%2==0:\n",
    "        print(\"The no is -ve and even\")\n",
    "\n",
    "    else:\n",
    "        print(\"The no is -ve and odd\")"
   ]
  },
  {
   "cell_type": "code",
   "execution_count": null,
   "id": "cbcb9b95-0b63-4d8c-884e-f7c0291d4784",
   "metadata": {},
   "outputs": [],
   "source": [
    "#chain condition\n",
    "if <condition>:\n",
    "    if <condition>:\n",
    "        if <condition>:\n",
    "            <operation>\n",
    "        \n",
    "    else:\n",
    "        <operation>\n",
    "\n",
    "else:\n",
    "    if <condition>:\n",
    "        <operation>\n",
    "    else:\n",
    "        <operation>\n",
    "        \n",
    "\n",
    "    \n",
    "\n",
    "    "
   ]
  }
 ],
 "metadata": {
  "kernelspec": {
   "display_name": "Python 3 (ipykernel)",
   "language": "python",
   "name": "python3"
  },
  "language_info": {
   "codemirror_mode": {
    "name": "ipython",
    "version": 3
   },
   "file_extension": ".py",
   "mimetype": "text/x-python",
   "name": "python",
   "nbconvert_exporter": "python",
   "pygments_lexer": "ipython3",
   "version": "3.12.7"
  }
 },
 "nbformat": 4,
 "nbformat_minor": 5
}
