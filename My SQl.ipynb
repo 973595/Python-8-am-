{
 "cells": [
  {
   "cell_type": "code",
   "execution_count": 2,
   "id": "6ede9da7-a8f6-42c6-b180-a07904b7e605",
   "metadata": {},
   "outputs": [
    {
     "name": "stdout",
     "output_type": "stream",
     "text": [
      "Requirement already satisfied: mysql-connector in c:\\users\\dell\\anaconda3\\lib\\site-packages (2.2.9)\n"
     ]
    }
   ],
   "source": [
    "!pip install mysql-connector"
   ]
  },
  {
   "cell_type": "code",
   "execution_count": 2,
   "id": "21798a88-b61d-40ce-a40a-25d91da66334",
   "metadata": {},
   "outputs": [],
   "source": [
    "import mysql.connector   \n",
    "\n",
    "database = mysql.connector.connect(\n",
    "    host = \"localhost\",\n",
    "    user = \"root\", \n",
    "    password = \"\",\n",
    "    database = \"pythonclass8am\"\n",
    ")\n",
    "db = database.cursor()"
   ]
  },
  {
   "cell_type": "code",
   "execution_count": 3,
   "id": "affa8745-52ad-41c7-88ee-4e9c8c09cd9a",
   "metadata": {},
   "outputs": [
    {
     "name": "stdout",
     "output_type": "stream",
     "text": [
      "(1, 'Jackie', 89, 79, 99, 87, 56, 470, 90.0, 'A')\n",
      "(2, 'Chan', 89, 80, 79, 99, 80, 450, 85.0, 'A')\n",
      "(3, 'Rambo', 99, 80, 69, 87, 88, 460, 86.0, 'A')\n",
      "(4, 'Tina', 98, 84, 96, 85, 89, 470, 88.0, 'A')\n",
      "(5, 'Montana', 60, 55, 80, 80, 34, 360, 75.0, 'B')\n",
      "(6, 'Clint', 78, 89, 90, 68, 86, 85, 75.0, 'B')\n"
     ]
    }
   ],
   "source": [
    "#read all data from database\n",
    "db.execute(\"SELECT * FROM student\")\n",
    "result =db.fetchall()\n",
    "\n",
    "for x in result:\n",
    "    print(x)"
   ]
  },
  {
   "cell_type": "code",
   "execution_count": 4,
   "id": "64c39e6c-bd9b-402a-a4a5-e703bdcf8dfa",
   "metadata": {},
   "outputs": [
    {
     "name": "stdout",
     "output_type": "stream",
     "text": [
      "(1, 'Jackie', 90.0, 'A')\n",
      "(2, 'Chan', 85.0, 'A')\n",
      "(3, 'Rambo', 86.0, 'A')\n",
      "(4, 'Tina', 88.0, 'A')\n",
      "(5, 'Montana', 75.0, 'B')\n",
      "(6, 'Clint', 75.0, 'B')\n"
     ]
    }
   ],
   "source": [
    "#read selected columns]'s data from database \n",
    "db.execute(\"SELECT sn,name,per,grade FROM student\")\n",
    "result = db.fetchall()\n",
    "\n",
    "for x in result:\n",
    "    print(x)"
   ]
  },
  {
   "cell_type": "code",
   "execution_count": 5,
   "id": "803a919c-1409-479f-a61f-c062b152fff1",
   "metadata": {},
   "outputs": [
    {
     "name": "stdout",
     "output_type": "stream",
     "text": [
      "(5, 'Montana', 60, 55, 80, 80, 34, 360, 75.0, 'B')\n",
      "(6, 'Clint', 78, 89, 90, 68, 86, 85, 75.0, 'B')\n"
     ]
    }
   ],
   "source": [
    "#read filtered column's data frim the database\n",
    "db.execute(\"SELECT * FROM student WHERE grade = 'B'\")\n",
    "result = db.fetchall()\n",
    "\n",
    "for x in result:\n",
    "    print(x)"
   ]
  },
  {
   "cell_type": "code",
   "execution_count": 14,
   "id": "a2984475-a412-49b5-b125-9b869226f12b",
   "metadata": {},
   "outputs": [
    {
     "ename": "NameError",
     "evalue": "name 'physics' is not defined",
     "output_type": "error",
     "traceback": [
      "\u001b[1;31m---------------------------------------------------------------------------\u001b[0m",
      "\u001b[1;31mNameError\u001b[0m                                 Traceback (most recent call last)",
      "Cell \u001b[1;32mIn[14], line 6\u001b[0m\n\u001b[0;32m      3\u001b[0m db\u001b[38;5;241m.\u001b[39mexecute(sql)\n\u001b[0;32m      4\u001b[0m database\u001b[38;5;241m.\u001b[39mcommit()\n\u001b[1;32m----> 6\u001b[0m total \u001b[38;5;241m=\u001b[39m physics \u001b[38;5;241m+\u001b[39m chemistry \u001b[38;5;241m+\u001b[39m math \u001b[38;5;241m+\u001b[39m english \u001b[38;5;241m+\u001b[39m nepali\n\u001b[0;32m      7\u001b[0m per \u001b[38;5;241m=\u001b[39m total\u001b[38;5;241m/\u001b[39m\u001b[38;5;241m5\u001b[39m\n\u001b[0;32m      9\u001b[0m \u001b[38;5;28;01mif\u001b[39;00m per \u001b[38;5;241m>\u001b[39m\u001b[38;5;241m=\u001b[39m\u001b[38;5;241m80\u001b[39m:\n",
      "\u001b[1;31mNameError\u001b[0m: name 'physics' is not defined"
     ]
    }
   ],
   "source": [
    "#write on table \n",
    "sql = \"\"\"INSERT INTO student (name, physics, chemistry, math, english, nepali, total, per, grade) VALUES ('Clint', 78 , 89, 90, 68, 86, 85, 75, 'B');\"\"\"\n",
    "db.execute(sql)\n",
    "database.commit()\n",
    "\n",
    "total = physics + chemistry + math + english + nepali\n",
    "per = total/5\n",
    "\n",
    "if per >=80:\n",
    "    grade = 'A'\n",
    "elif per >=60:\n",
    "    grade = 'B' \n",
    "elif per >=50:\n",
    "    grade = 'C' \n",
    "else:\n",
    "    grade = 'F' \n",
    "\n",
    "sql = f'''INSERT INTO student (name, physics, chemistry, math, english, nepali, tottal, per, grade)\n",
    "VALUES ('{name}', {chemistry}, {math}, {english}, {nepali}, {total}, {per}, '{grade}');'''\n",
    "db.execute(sql)\n",
    "database.commit()"
   ]
  },
  {
   "cell_type": "code",
   "execution_count": 18,
   "id": "9610d63e-fdc3-4526-a765-000376c633aa",
   "metadata": {},
   "outputs": [
    {
     "name": "stdin",
     "output_type": "stream",
     "text": [
      "Enter name=  Ram \n",
      "Enter physics marks =  45\n",
      "Enter chemistry marks =  4\n",
      "Enter nepali marks =  5\n",
      "Enter math marks =  5\n",
      "Enter english marks =  45\n"
     ]
    }
   ],
   "source": [
    "name = input(\"Enter name= \")\n",
    "physics = int(input(\"Enter physics marks = \"))\n",
    "chemistry = int(input(\"Enter chemistry marks = \"))\n",
    "nepali = int(input(\"Enter nepali marks = \"))\n",
    "math = int(input(\"Enter math marks = \"))\n",
    "english = int(input(\"Enter english marks = \")) \n",
    "\n",
    "total = physics+chemistry+nepali+math+english\n",
    "per = total/5\n",
    "\n",
    "if per >=80:\n",
    "    grade = 'A'\n",
    "elif per >=60:\n",
    "    grade = 'B' \n",
    "elif per >=50:\n",
    "    grade = 'C' \n",
    "else:\n",
    "    grade = 'F' \n",
    "\n",
    "sql = f'''INSERT INTO student (name, physics, chemistry, math, english, nepali, total, per, grade)\n",
    "VALUES ('{name}', {physics}, {chemistry}, {math}, {english}, {nepali}, {total}, {per}, '{grade}');'''\n",
    "db.execute(sql)\n",
    "database.commit()"
   ]
  },
  {
   "cell_type": "code",
   "execution_count": 20,
   "id": "72c70759-ae17-4696-a7bf-a33d6f757c46",
   "metadata": {},
   "outputs": [
    {
     "name": "stdin",
     "output_type": "stream",
     "text": [
      "Enter sn =  4\n",
      "Enter name =  Tina\n"
     ]
    }
   ],
   "source": [
    "sn = int(input(\"Enter sn = \"))\n",
    "name = input(\"Enter name = \")\n",
    "sql = f'''UPDATE student SET name = '{name}' WHERE sn = {sn}; '''\n",
    "db.execute(sql)\n",
    "database.commit()\n"
   ]
  },
  {
   "cell_type": "code",
   "execution_count": 21,
   "id": "84973a81-a309-41da-81ea-ac520cade882",
   "metadata": {},
   "outputs": [
    {
     "name": "stdout",
     "output_type": "stream",
     "text": [
      "Collecting pandasql\n",
      "  Downloading pandasql-0.7.3.tar.gz (26 kB)\n",
      "  Preparing metadata (setup.py): started\n",
      "  Preparing metadata (setup.py): finished with status 'done'\n",
      "Requirement already satisfied: numpy in c:\\users\\dell\\anaconda3\\lib\\site-packages (from pandasql) (1.26.4)\n",
      "Requirement already satisfied: pandas in c:\\users\\dell\\anaconda3\\lib\\site-packages (from pandasql) (2.2.2)\n",
      "Requirement already satisfied: sqlalchemy in c:\\users\\dell\\anaconda3\\lib\\site-packages (from pandasql) (2.0.34)\n",
      "Requirement already satisfied: python-dateutil>=2.8.2 in c:\\users\\dell\\anaconda3\\lib\\site-packages (from pandas->pandasql) (2.9.0.post0)\n",
      "Requirement already satisfied: pytz>=2020.1 in c:\\users\\dell\\anaconda3\\lib\\site-packages (from pandas->pandasql) (2024.1)\n",
      "Requirement already satisfied: tzdata>=2022.7 in c:\\users\\dell\\anaconda3\\lib\\site-packages (from pandas->pandasql) (2023.3)\n",
      "Requirement already satisfied: typing-extensions>=4.6.0 in c:\\users\\dell\\anaconda3\\lib\\site-packages (from sqlalchemy->pandasql) (4.11.0)\n",
      "Requirement already satisfied: greenlet!=0.4.17 in c:\\users\\dell\\anaconda3\\lib\\site-packages (from sqlalchemy->pandasql) (3.0.1)\n",
      "Requirement already satisfied: six>=1.5 in c:\\users\\dell\\anaconda3\\lib\\site-packages (from python-dateutil>=2.8.2->pandas->pandasql) (1.16.0)\n",
      "Building wheels for collected packages: pandasql\n",
      "  Building wheel for pandasql (setup.py): started\n",
      "  Building wheel for pandasql (setup.py): finished with status 'done'\n",
      "  Created wheel for pandasql: filename=pandasql-0.7.3-py3-none-any.whl size=26801 sha256=c5ad92ff38f062d4a54db2722f23b9e7fe92a0fb9d94a39b764859a6f01ec36d\n",
      "  Stored in directory: c:\\users\\dell\\appdata\\local\\pip\\cache\\wheels\\15\\a1\\e7\\6f92f295b5272ae5c02365e6b8fa19cb93f16a537090a1cf27\n",
      "Successfully built pandasql\n",
      "Installing collected packages: pandasql\n",
      "Successfully installed pandasql-0.7.3\n"
     ]
    }
   ],
   "source": [
    "#!pip install pandasql "
   ]
  },
  {
   "cell_type": "code",
   "execution_count": null,
   "id": "2375e5b9-1bee-4a98-aade-258babda93ef",
   "metadata": {},
   "outputs": [],
   "source": [
    "#import pandasql as sqldf \n",
    "#sqldf(\"SELECT * FROM student\")"
   ]
  },
  {
   "cell_type": "code",
   "execution_count": 6,
   "id": "1aff8b6c-9a68-42c3-8ecd-5d7313518f76",
   "metadata": {},
   "outputs": [
    {
     "name": "stdin",
     "output_type": "stream",
     "text": [
      "Enter sn =  6\n"
     ]
    }
   ],
   "source": [
    "#delete in sql \n",
    "sn = int(input(\"Enter sn = \"))\n",
    "sql = f\"\"\"DELETE FROM student WHERE sn = {sn}\"\"\"\n",
    "db.execute(sql)\n",
    "database.commit()"
   ]
  },
  {
   "cell_type": "code",
   "execution_count": null,
   "id": "ec6eacf4-e2dc-4b74-8f5b-f21921f8169e",
   "metadata": {},
   "outputs": [],
   "source": []
  }
 ],
 "metadata": {
  "kernelspec": {
   "display_name": "Python 3 (ipykernel)",
   "language": "python",
   "name": "python3"
  },
  "language_info": {
   "codemirror_mode": {
    "name": "ipython",
    "version": 3
   },
   "file_extension": ".py",
   "mimetype": "text/x-python",
   "name": "python",
   "nbconvert_exporter": "python",
   "pygments_lexer": "ipython3",
   "version": "3.12.7"
  }
 },
 "nbformat": 4,
 "nbformat_minor": 5
}
