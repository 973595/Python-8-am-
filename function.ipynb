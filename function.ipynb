{
 "cells": [
  {
   "cell_type": "code",
   "execution_count": null,
   "id": "a669bd44-1af2-4256-b6ac-315e839f1161",
   "metadata": {},
   "outputs": [],
   "source": [
    "#function "
   ]
  },
  {
   "cell_type": "code",
   "execution_count": null,
   "id": "6b999fae-2699-4537-9e57-58cea6acc58b",
   "metadata": {},
   "outputs": [],
   "source": [
    "#predefined function \n",
    "#print() type() int() float() str() list() tuple() dict() "
   ]
  },
  {
   "cell_type": "code",
   "execution_count": null,
   "id": "53b7c854-5742-4a1d-9ed4-cfaeb6799008",
   "metadata": {},
   "outputs": [],
   "source": [
    "#user defined \n",
    "#def <fucntion_name>():\n",
    "#    <operations>\n",
    "\n",
    "#<function_name>():"
   ]
  },
  {
   "cell_type": "code",
   "execution_count": 1,
   "id": "500ed2c9-563f-4d6a-8f37-12b6f7149bc1",
   "metadata": {},
   "outputs": [
    {
     "name": "stdout",
     "output_type": "stream",
     "text": [
      "Hello World\n"
     ]
    }
   ],
   "source": [
    "def hello():\n",
    "    print(\"Hello World\") \n",
    "    \n",
    "hello()"
   ]
  },
  {
   "cell_type": "code",
   "execution_count": null,
   "id": "91059c86-cd64-430f-8d9b-40cfb013014b",
   "metadata": {},
   "outputs": [],
   "source": [
    "#function without argument and non return type "
   ]
  },
  {
   "cell_type": "code",
   "execution_count": 4,
   "id": "d0d71941-7980-4ef5-83c6-cd0ad57854f0",
   "metadata": {},
   "outputs": [
    {
     "name": "stdout",
     "output_type": "stream",
     "text": [
      "50\n"
     ]
    }
   ],
   "source": [
    "def area():\n",
    "    l = 10     #local variable\n",
    "    b = 5      #local variable \n",
    "    a = l*b    #local variable \n",
    "    print(a)\n",
    "area()"
   ]
  },
  {
   "cell_type": "code",
   "execution_count": 5,
   "id": "7425574f-b34c-4c06-aefc-b4b76c659fce",
   "metadata": {},
   "outputs": [
    {
     "name": "stdout",
     "output_type": "stream",
     "text": [
      "50\n"
     ]
    }
   ],
   "source": [
    "l = 10     #gloabl variable \n",
    "b = 5      #global variable\n",
    "def area():\n",
    "    a = l*b\n",
    "    print(a)\n",
    "area()"
   ]
  },
  {
   "cell_type": "code",
   "execution_count": 6,
   "id": "8c8ac1bb-4c97-445a-bd60-5c4771a35b47",
   "metadata": {},
   "outputs": [
    {
     "name": "stdout",
     "output_type": "stream",
     "text": [
      "50\n"
     ]
    }
   ],
   "source": [
    "#function with arguments \n",
    "def area(l,b):    #l,b is parameter \n",
    "    a = l*b \n",
    "    print(a) \n",
    "\n",
    "area(10,5)       #10,5 is argument "
   ]
  },
  {
   "cell_type": "code",
   "execution_count": 14,
   "id": "b74c2e55-b5c9-431e-8b23-a2611b003615",
   "metadata": {},
   "outputs": [
    {
     "name": "stdin",
     "output_type": "stream",
     "text": [
      "Enter name =  Ram \n",
      "Enter age =  50\n",
      "Enter add =  bkt \n"
     ]
    },
    {
     "name": "stdout",
     "output_type": "stream",
     "text": [
      "Hello World I am Ram . I am from bkt . I am 50\n"
     ]
    }
   ],
   "source": [
    "def info(name,age,add):\n",
    "    data = f\"Hello World I am {name}. I am from {add}. I am {age}\"\n",
    "    print(data)\n",
    "name = input(\"Enter name = \")\n",
    "age = input(\"Enter age = \")\n",
    "add = input(\"Enter add = \") \n",
    "\n",
    "info(name,age,add)\n"
   ]
  },
  {
   "cell_type": "code",
   "execution_count": 13,
   "id": "ffc61662-c65b-4e0c-8abd-43ae87686c89",
   "metadata": {},
   "outputs": [
    {
     "name": "stdin",
     "output_type": "stream",
     "text": [
      "Enter name =  Ram \n",
      "Enter age =  50\n",
      "Enter add =  bkty\n"
     ]
    },
    {
     "name": "stdout",
     "output_type": "stream",
     "text": [
      "Hello World I am Ram . I am from bkty. I am 50\n"
     ]
    }
   ],
   "source": [
    "def info(x):\n",
    "    name,age,add = x \n",
    "    data = f\"Hello World I am {name}. I am from {add}. I am {age}\"\n",
    "    print(data)\n",
    "    \n",
    "name = input(\"Enter name = \")\n",
    "age = input(\"Enter age = \")\n",
    "add = input(\"Enter add = \") \n",
    "x = [name,age,add]\n",
    "info(x)"
   ]
  },
  {
   "cell_type": "code",
   "execution_count": 16,
   "id": "0df44b18-f90a-41e8-b629-38daf8bb9576",
   "metadata": {},
   "outputs": [
    {
     "name": "stdin",
     "output_type": "stream",
     "text": [
      "Enter name =  Ram \n",
      "Enter age =  50\n"
     ]
    },
    {
     "name": "stdout",
     "output_type": "stream",
     "text": [
      "Hello World I am Ram . I am from Nepal. I am 50\n"
     ]
    }
   ],
   "source": [
    "def info(name,age,add=\"Nepal\"):\n",
    "    data = f\"Hello World I am {name}. I am from {add}. I am {age}\"\n",
    "    print(data)\n",
    "name = input(\"Enter name = \")\n",
    "age = input(\"Enter age = \")\n",
    "#add = input(\"Enter add = \")\n",
    "\n",
    "info(name,age)"
   ]
  },
  {
   "cell_type": "code",
   "execution_count": 17,
   "id": "db8d1b5c-0b18-40cb-b75b-0ac60f4c1b25",
   "metadata": {},
   "outputs": [
    {
     "name": "stdout",
     "output_type": "stream",
     "text": [
      "Hello World I am python\n"
     ]
    }
   ],
   "source": [
    "#return type \n",
    "def hello():\n",
    "    return \"Hello World\"\n",
    "\n",
    "x = hello ()\n",
    "info = f\"{x} I am python\"\n",
    "print(info)"
   ]
  },
  {
   "cell_type": "code",
   "execution_count": 18,
   "id": "31f58fd7-365c-49b0-8d6c-ccdb1bbffbe6",
   "metadata": {},
   "outputs": [
    {
     "name": "stdout",
     "output_type": "stream",
     "text": [
      "100\n"
     ]
    }
   ],
   "source": [
    "def area(l,b):\n",
    "    a = l*b \n",
    "    return a\n",
    "\n",
    "l = 10 \n",
    "b = 5\n",
    "h = 2\n",
    "\n",
    "a = area(l,b) \n",
    "v = a*h \n",
    "print(v)"
   ]
  },
  {
   "cell_type": "code",
   "execution_count": 19,
   "id": "ba991864-5f04-4022-bab9-b4b7c84aac6f",
   "metadata": {},
   "outputs": [
    {
     "name": "stdout",
     "output_type": "stream",
     "text": [
      "50\n",
      "100\n"
     ]
    }
   ],
   "source": [
    "def cal(l,b,h):\n",
    "    a = l*b \n",
    "    v = a*h\n",
    "    return a,v\n",
    "\n",
    "l = 10 \n",
    "b = 5\n",
    "h = 2\n",
    "\n",
    "area,volume = (cal(l,b,h))\n",
    "print(area)\n",
    "print(volume) "
   ]
  },
  {
   "cell_type": "code",
   "execution_count": 24,
   "id": "f1c2954a-85db-429b-bb47-77de5ddb8aeb",
   "metadata": {},
   "outputs": [
    {
     "name": "stdin",
     "output_type": "stream",
     "text": [
      "Enter a =  10\n",
      "Enter b =  20\n",
      "Enter + or - or / or * /\n"
     ]
    },
    {
     "name": "stdout",
     "output_type": "stream",
     "text": [
      "0.5\n"
     ]
    }
   ],
   "source": [
    "def add(a,b):\n",
    "    return a+b\n",
    "def sub(a,b):\n",
    "    return a-b\n",
    "def mul(a,b):\n",
    "    return a*b\n",
    "def div(a,b):\n",
    "    return a/b\n",
    "\n",
    "a = int(input(\"Enter a = \"))\n",
    "b = int(input(\"Enter b = \"))\n",
    "o = input(\"Enter + or - or / or *\")\n",
    "\n",
    "if o == '+':\n",
    "    print(add(a,b))\n",
    "elif o == '-':\n",
    "    print(sub(a,b))\n",
    "elif o == '*':\n",
    "    print(mul(a,b))\n",
    "elif o == '/':\n",
    "    print(div(a,b))\n",
    "else:\n",
    "    print(\"Invalid operator\")\n",
    "          \n"
   ]
  },
  {
   "cell_type": "code",
   "execution_count": 25,
   "id": "f222c7f0-5542-49d8-9ad9-8d1218bf67e5",
   "metadata": {},
   "outputs": [
    {
     "name": "stdout",
     "output_type": "stream",
     "text": [
      "Hello World\n"
     ]
    },
    {
     "name": "stdin",
     "output_type": "stream",
     "text": [
      "Enter y for more print y\n"
     ]
    },
    {
     "name": "stdout",
     "output_type": "stream",
     "text": [
      "Hello World\n"
     ]
    },
    {
     "name": "stdin",
     "output_type": "stream",
     "text": [
      "Enter y for more print y\n"
     ]
    },
    {
     "name": "stdout",
     "output_type": "stream",
     "text": [
      "Hello World\n"
     ]
    },
    {
     "name": "stdin",
     "output_type": "stream",
     "text": [
      "Enter y for more print rfsafasf\n"
     ]
    }
   ],
   "source": [
    "#recursive function\n",
    "\n",
    "def hello():\n",
    "    print(\"Hello World\")\n",
    "    x = input(\"Enter y for more print\")\n",
    "    if x == 'y':\n",
    "        hello()\n",
    "\n",
    "hello()\n",
    "        "
   ]
  },
  {
   "cell_type": "code",
   "execution_count": 27,
   "id": "decca076-8abb-4574-94a4-ee77a0113e07",
   "metadata": {},
   "outputs": [
    {
     "name": "stdout",
     "output_type": "stream",
     "text": [
      "4\n"
     ]
    }
   ],
   "source": [
    "#lambda function \n",
    "#lambda <arguments>:<operations>\n",
    "x = lambda a:a**2\n",
    "print(x(2))"
   ]
  },
  {
   "cell_type": "code",
   "execution_count": 29,
   "id": "804eb99c-38a3-427f-aa61-2bed06fef68f",
   "metadata": {},
   "outputs": [
    {
     "name": "stdout",
     "output_type": "stream",
     "text": [
      "50\n"
     ]
    }
   ],
   "source": [
    "x = lambda l,b:l*b\n",
    "print(x(10,5))\n"
   ]
  },
  {
   "cell_type": "code",
   "execution_count": 33,
   "id": "d6656fa5-c5a9-4eb5-a28e-697b00ec425e",
   "metadata": {},
   "outputs": [
    {
     "data": {
      "text/plain": [
       "'hello world'"
      ]
     },
     "execution_count": 33,
     "metadata": {},
     "output_type": "execute_result"
    }
   ],
   "source": [
    "x = lambda s:s.lower()\n",
    "x(\"Hello World\")"
   ]
  },
  {
   "cell_type": "code",
   "execution_count": null,
   "id": "0fb219a1-ffd4-4bde-b694-d89be586c81f",
   "metadata": {},
   "outputs": [],
   "source": []
  }
 ],
 "metadata": {
  "kernelspec": {
   "display_name": "Python 3 (ipykernel)",
   "language": "python",
   "name": "python3"
  },
  "language_info": {
   "codemirror_mode": {
    "name": "ipython",
    "version": 3
   },
   "file_extension": ".py",
   "mimetype": "text/x-python",
   "name": "python",
   "nbconvert_exporter": "python",
   "pygments_lexer": "ipython3",
   "version": "3.12.7"
  }
 },
 "nbformat": 4,
 "nbformat_minor": 5
}
