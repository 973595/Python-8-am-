{
 "cells": [
  {
   "cell_type": "code",
   "execution_count": null,
   "id": "b0ab06dd-a5cc-4687-a71f-4fd8f25d4978",
   "metadata": {},
   "outputs": [],
   "source": [
    "#tuple\n",
    "# -indexing\n",
    "# -ordered\n",
    "# -Multiple and Duplicate \n",
    "# -Imutable"
   ]
  },
  {
   "cell_type": "code",
   "execution_count": 1,
   "id": "bfe6c0d8-6604-4d7c-8f71-4f3f6d4bff3b",
   "metadata": {},
   "outputs": [
    {
     "name": "stdout",
     "output_type": "stream",
     "text": [
      "<class 'tuple'>\n"
     ]
    }
   ],
   "source": [
    "t = (1,2,3,4,5,6,7,8,9)\n",
    "print(type(t))"
   ]
  },
  {
   "cell_type": "code",
   "execution_count": 3,
   "id": "7e09d035-cde8-451a-a371-dd540dc622dd",
   "metadata": {},
   "outputs": [
    {
     "name": "stdout",
     "output_type": "stream",
     "text": [
      "<class 'tuple'>\n"
     ]
    }
   ],
   "source": [
    "t = (\"Apple\",\"Ball\")\n",
    "print(type(t))"
   ]
  },
  {
   "cell_type": "code",
   "execution_count": 4,
   "id": "20339b4a-b334-48c4-9841-ac454e4ce267",
   "metadata": {},
   "outputs": [
    {
     "name": "stdout",
     "output_type": "stream",
     "text": [
      "<class 'tuple'>\n"
     ]
    }
   ],
   "source": [
    "t = (\"Apple\",)\n",
    "print(type(t))"
   ]
  },
  {
   "cell_type": "code",
   "execution_count": 6,
   "id": "438deedf-f137-4afb-bec0-1e0d71404aa7",
   "metadata": {},
   "outputs": [
    {
     "name": "stdout",
     "output_type": "stream",
     "text": [
      "Ball\n"
     ]
    }
   ],
   "source": [
    "t = (\"Apple\",\"Ball\",\"Cat\",\"Dog\")\n",
    "print(t[1])"
   ]
  },
  {
   "cell_type": "code",
   "execution_count": 7,
   "id": "a1f7f79a-144d-439b-b667-8fef0fa9b8e2",
   "metadata": {},
   "outputs": [
    {
     "name": "stdout",
     "output_type": "stream",
     "text": [
      "('Apple', 'Ball')\n"
     ]
    }
   ],
   "source": [
    "t = (\"Apple\",\"Ball\",\"Cat\",\"Dog\")\n",
    "print(t[0:2])"
   ]
  },
  {
   "cell_type": "code",
   "execution_count": null,
   "id": "f10b5131-eed0-4f2e-bc92-2c0177f705bd",
   "metadata": {},
   "outputs": [],
   "source": [
    "#We cant use append() insert() extend() \n",
    "#update()\n",
    "#del() rem() pop()\n",
    "#sort()\n",
    "#reverse()"
   ]
  },
  {
   "cell_type": "code",
   "execution_count": 8,
   "id": "de9ecd08-0a5c-441a-8606-ec232ba313c2",
   "metadata": {},
   "outputs": [
    {
     "name": "stdin",
     "output_type": "stream",
     "text": [
      "Enter n =  5 \n",
      "Enter x =  45\n",
      "Enter x =  45\n",
      "Enter x =  65\n",
      "Enter x =  76\n",
      "Enter x =  88\n"
     ]
    },
    {
     "name": "stdout",
     "output_type": "stream",
     "text": [
      "(45, 45, 65, 76, 88)\n"
     ]
    }
   ],
   "source": [
    "t = tuple()\n",
    "n = int(input(\"Enter n = \"))\n",
    "for i in range(n):\n",
    "    x = int(input(\"Enter x = \"))\n",
    "    t = t + (x,)\n",
    "print(t)"
   ]
  },
  {
   "cell_type": "code",
   "execution_count": 10,
   "id": "4f424531-3db5-4338-abf2-71694455ee39",
   "metadata": {},
   "outputs": [
    {
     "name": "stdout",
     "output_type": "stream",
     "text": [
      "88\n",
      "45\n",
      "319\n"
     ]
    }
   ],
   "source": [
    "print(max(t))\n",
    "print(min(t))\n",
    "print(sum(t))"
   ]
  },
  {
   "cell_type": "code",
   "execution_count": 11,
   "id": "f4ad0854-16ab-4b09-a21d-ed1712ef5e5d",
   "metadata": {},
   "outputs": [
    {
     "name": "stdout",
     "output_type": "stream",
     "text": [
      "(10, 15, 20, 25, 30, 35)\n"
     ]
    }
   ],
   "source": [
    "a = 10,15,20,25,30,35\n",
    "print(a)"
   ]
  },
  {
   "cell_type": "code",
   "execution_count": 12,
   "id": "913bd684-8c43-42a5-ae1a-d0c93043e4ef",
   "metadata": {},
   "outputs": [
    {
     "name": "stdout",
     "output_type": "stream",
     "text": [
      "('Ball', 'Cat', 'Dog', 'Apple')\n"
     ]
    }
   ],
   "source": [
    "#tuple to list \n",
    "t = (\"Apple\",\"Ball\",\"Cat\",\"Dog\",\"Apple\")\n",
    "l = list(t)\n",
    "del l[0]\n",
    "t = tuple(l)\n",
    "print(t)"
   ]
  },
  {
   "cell_type": "code",
   "execution_count": 13,
   "id": "70417db9-2c3c-48bb-9f4e-88c67cbf1480",
   "metadata": {},
   "outputs": [
    {
     "name": "stdout",
     "output_type": "stream",
     "text": [
      "((1, 2, 3), (4, 5, 6), (7, 8, 9))\n"
     ]
    }
   ],
   "source": [
    "#tuple insied tuple \n",
    "a = ((1,2,3),\n",
    "     (4,5,6),\n",
    "     (7,8,9))\n",
    "print(a)"
   ]
  },
  {
   "cell_type": "code",
   "execution_count": null,
   "id": "135959e5-a1e6-4dd6-9d97-5aac71975afc",
   "metadata": {},
   "outputs": [],
   "source": []
  }
 ],
 "metadata": {
  "kernelspec": {
   "display_name": "Python 3 (ipykernel)",
   "language": "python",
   "name": "python3"
  },
  "language_info": {
   "codemirror_mode": {
    "name": "ipython",
    "version": 3
   },
   "file_extension": ".py",
   "mimetype": "text/x-python",
   "name": "python",
   "nbconvert_exporter": "python",
   "pygments_lexer": "ipython3",
   "version": "3.12.7"
  }
 },
 "nbformat": 4,
 "nbformat_minor": 5
}
