{
 "cells": [
  {
   "cell_type": "code",
   "execution_count": null,
   "id": "80fe5a98-4634-403a-9b57-8d8e4162f794",
   "metadata": {},
   "outputs": [],
   "source": [
    "#pyhton collections\n",
    "#list\n",
    "#tuple\n",
    "#dict\n",
    "#set "
   ]
  },
  {
   "cell_type": "code",
   "execution_count": null,
   "id": "77d4b654-0d1a-4887-aa93-2c1e72806db4",
   "metadata": {},
   "outputs": [],
   "source": [
    "# list \n",
    "# -Indexing \n",
    "# -Multiple and duplicate \n",
    "# -Ordered \n",
    "# -Mutable "
   ]
  },
  {
   "cell_type": "code",
   "execution_count": null,
   "id": "64b9bcb3-fa77-4a22-8634-109fe76e78ba",
   "metadata": {},
   "outputs": [],
   "source": [
    "l = list()"
   ]
  },
  {
   "cell_type": "code",
   "execution_count": 2,
   "id": "5e76c8f4-766c-41fd-973b-6e62dac5b4fd",
   "metadata": {},
   "outputs": [
    {
     "name": "stdout",
     "output_type": "stream",
     "text": [
      "[1, 2, 3, 4, 5, 6, 7, 8, 9, 10]\n",
      "['Apple', 'Dog', 'Horse', 'Cat', 'Fish']\n",
      "<class 'list'>\n",
      "<class 'list'>\n"
     ]
    }
   ],
   "source": [
    "a = [1,2,3,4,5,6,7,8,9,10]\n",
    "b = [\"Apple\",\"Dog\",\"Horse\",\"Cat\",\"Fish\"]\n",
    "print(a)\n",
    "print(b)\n",
    "print(type(a))\n",
    "print(type(b))"
   ]
  },
  {
   "cell_type": "code",
   "execution_count": 1,
   "id": "f5fcc0e7-55df-4eab-8245-88d1d9674a47",
   "metadata": {},
   "outputs": [
    {
     "name": "stdout",
     "output_type": "stream",
     "text": [
      "Apple\n",
      "['Apple', 'Dog', 'Horse']\n",
      "['Apple', 'Horse', 'Fish']\n"
     ]
    }
   ],
   "source": [
    "b = [\"Apple\",\"Dog\",\"Horse\",\"Cat\",\"Fish\",\"Apple\"]\n",
    "print(b[0])\n",
    "print(b[0:3])\n",
    "print(b[0:6:2])\n"
   ]
  },
  {
   "cell_type": "code",
   "execution_count": 7,
   "id": "e1f592f4-54cf-425e-b691-aa45522f52de",
   "metadata": {},
   "outputs": [
    {
     "name": "stdout",
     "output_type": "stream",
     "text": [
      "Ball\n"
     ]
    }
   ],
   "source": [
    "b = [\"Apple\",\"Dog\",\"Cat\",\"Fish\",\"Ball\",\"Apple\"]\n",
    "print(b[-2])"
   ]
  },
  {
   "cell_type": "code",
   "execution_count": 9,
   "id": "18031a7e-8d74-4236-8048-bb7e5b6c8616",
   "metadata": {},
   "outputs": [
    {
     "name": "stdout",
     "output_type": "stream",
     "text": [
      "[1, 2, 3, 4, 5, 6]\n"
     ]
    }
   ],
   "source": [
    "a = [1,2,3]\n",
    "b = [4,5,6]\n",
    "c = a+b\n",
    "print(c)\n"
   ]
  },
  {
   "cell_type": "code",
   "execution_count": 10,
   "id": "cb19a4a6-fd7f-4fd5-9427-b1a539304bcb",
   "metadata": {},
   "outputs": [
    {
     "name": "stdout",
     "output_type": "stream",
     "text": [
      "['Hello', 'World', 'Hello', 'World']\n"
     ]
    }
   ],
   "source": [
    "a = [\"Hello\",\"World\"]\n",
    "print(a*2)"
   ]
  },
  {
   "cell_type": "code",
   "execution_count": 12,
   "id": "9e446e83-2c91-43b8-b422-249b9a2435dc",
   "metadata": {},
   "outputs": [
    {
     "name": "stdout",
     "output_type": "stream",
     "text": [
      "Apple\n",
      "Ball\n",
      "Cat\n"
     ]
    }
   ],
   "source": [
    "b = [\"Apple\",\"Ball\",\"Cat\"]\n",
    "for i in b:\n",
    "    print(i)"
   ]
  },
  {
   "cell_type": "code",
   "execution_count": 16,
   "id": "95b27417-acf6-412f-8fd1-787d4c02b9ce",
   "metadata": {},
   "outputs": [
    {
     "name": "stdin",
     "output_type": "stream",
     "text": [
      "Enter n =  3\n",
      "Enter x =  5\n"
     ]
    },
    {
     "name": "stdout",
     "output_type": "stream",
     "text": [
      "[5]\n"
     ]
    },
    {
     "name": "stdin",
     "output_type": "stream",
     "text": [
      "Enter x =  6\n"
     ]
    },
    {
     "name": "stdout",
     "output_type": "stream",
     "text": [
      "[5, 6]\n"
     ]
    },
    {
     "name": "stdin",
     "output_type": "stream",
     "text": [
      "Enter x =  7\n"
     ]
    },
    {
     "name": "stdout",
     "output_type": "stream",
     "text": [
      "[5, 6, 7]\n"
     ]
    }
   ],
   "source": [
    "l = []\n",
    "n = int(input(\"Enter n = \"))\n",
    "for i in range(n):\n",
    "    x = int(input(\"Enter x = \"))\n",
    "    l = l + [x]\n",
    "    print(l)"
   ]
  },
  {
   "cell_type": "code",
   "execution_count": 18,
   "id": "0d14f9e2-2371-4d34-bd89-4145cbf0caf8",
   "metadata": {},
   "outputs": [
    {
     "name": "stdout",
     "output_type": "stream",
     "text": [
      "Min value =  5\n",
      "Max value =  7\n",
      "Sum of value =  18\n",
      "[5, 6, 7]\n",
      "[7, 6, 5]\n"
     ]
    }
   ],
   "source": [
    "print(\"Min value = \", min(l))\n",
    "print(\"Max value = \", max(l))\n",
    "print(\"Sum of value = \", sum(l))\n",
    "l.sort()\n",
    "print(l)\n",
    "l.reverse()\n",
    "print(l)"
   ]
  },
  {
   "cell_type": "code",
   "execution_count": 19,
   "id": "28f9fa9d-623c-4248-bf49-5da4159730df",
   "metadata": {},
   "outputs": [
    {
     "name": "stdout",
     "output_type": "stream",
     "text": [
      "['Aaksh', 'Apple', 'Banana', 'Xray', 'Zebra']\n"
     ]
    }
   ],
   "source": [
    "a = [\"Banana\",\"Apple\",\"Aaksh\",\"Zebra\",\"Xray\"]\n",
    "a.sort()\n",
    "print(a)"
   ]
  },
  {
   "cell_type": "code",
   "execution_count": null,
   "id": "b7aacae5-7472-4961-ae48-793b3d3a709f",
   "metadata": {},
   "outputs": [],
   "source": [
    "# CRUD Operation \n",
    "#c -> create\n",
    "#r -> read\n",
    "#u -> update \n",
    "#d -> delete "
   ]
  },
  {
   "cell_type": "code",
   "execution_count": null,
   "id": "52780adf-297f-4c66-8c8f-9d42cb6f1e03",
   "metadata": {},
   "outputs": [],
   "source": [
    "# create \n",
    "# append() insert() extend()"
   ]
  },
  {
   "cell_type": "code",
   "execution_count": 20,
   "id": "fab7b12c-38e3-4e5b-b61c-a5309add6797",
   "metadata": {},
   "outputs": [
    {
     "name": "stdout",
     "output_type": "stream",
     "text": [
      "['Apple', 'Ball', 'Cat']\n"
     ]
    }
   ],
   "source": [
    "#Append()\n",
    "l = []\n",
    "l.append(\"Apple\")\n",
    "l.append(\"Ball\")\n",
    "l.append(\"Cat\")\n",
    "print(l)"
   ]
  },
  {
   "cell_type": "code",
   "execution_count": 2,
   "id": "d02bb47c-5c85-4fed-b627-75827e3c21fb",
   "metadata": {},
   "outputs": [
    {
     "name": "stdout",
     "output_type": "stream",
     "text": [
      "['Akash', 'Apple', 'apple', 'Banana', 'Xray', 'Zebra']\n"
     ]
    }
   ],
   "source": [
    "#Insert()\n",
    "a = [\"Akash\",\"Apple\",\"Banana\",\"Xray\",\"Zebra\"]\n",
    "a.insert(2,\"apple\")\n",
    "print(a)"
   ]
  },
  {
   "cell_type": "code",
   "execution_count": 23,
   "id": "8b4a33d7-2877-4e1d-9a79-729f6ce78e52",
   "metadata": {},
   "outputs": [
    {
     "name": "stdout",
     "output_type": "stream",
     "text": [
      "[1, 2, 3, 4, 5, 6, 7, 8, 9]\n"
     ]
    }
   ],
   "source": [
    "#extend()\n",
    "a = [1,2,3,4,5]\n",
    "b = [6,7,8,9]\n",
    "a.extend(b)\n",
    "print(a)"
   ]
  },
  {
   "cell_type": "code",
   "execution_count": 24,
   "id": "23a017ef-5f65-4177-ab19-6ecaa7eca9cc",
   "metadata": {},
   "outputs": [
    {
     "data": {
      "text/plain": [
       "['Nabin', 'Apple', 'Banana', 'Xray', 'Zebra']"
      ]
     },
     "execution_count": 24,
     "metadata": {},
     "output_type": "execute_result"
    }
   ],
   "source": [
    "#update \n",
    "a = [\"Akash\",\"Apple\",\"Banana\",\"Xray\",\"Zebra\"]\n",
    "a[0] = \"Nabin\"\n",
    "a"
   ]
  },
  {
   "cell_type": "code",
   "execution_count": 25,
   "id": "f48f1dc7-24c4-4940-aa2c-60f617e14295",
   "metadata": {},
   "outputs": [
    {
     "data": {
      "text/plain": [
       "['Sita', 'Gita', 'Banana', 'Xray', 'Zebra']"
      ]
     },
     "execution_count": 25,
     "metadata": {},
     "output_type": "execute_result"
    }
   ],
   "source": [
    "a = [\"Akash\",\"Apple\",\"Banana\",\"Xray\",\"Zebra\"]\n",
    "a[0:2] = [\"Sita\",\"Gita\"]\n",
    "a"
   ]
  },
  {
   "cell_type": "code",
   "execution_count": null,
   "id": "bd3e91d2-ba51-42f5-b4dd-c665e47c37bf",
   "metadata": {},
   "outputs": [],
   "source": [
    "# delete \n",
    "# del remove() pop()\n"
   ]
  },
  {
   "cell_type": "code",
   "execution_count": 26,
   "id": "a3c10c2e-ce91-4977-a6da-e7ed392835a3",
   "metadata": {},
   "outputs": [
    {
     "name": "stdout",
     "output_type": "stream",
     "text": [
      "['Apple', 'Banana', 'Xray', 'Zebra']\n"
     ]
    }
   ],
   "source": [
    "a = [\"Akash\",\"Apple\",\"Banana\",\"Xray\",\"Zebra\"]\n",
    "del a[0]\n",
    "print(a)"
   ]
  },
  {
   "cell_type": "code",
   "execution_count": 27,
   "id": "e7ce8dc7-c062-4fae-b2c2-071a21d59289",
   "metadata": {},
   "outputs": [
    {
     "name": "stdout",
     "output_type": "stream",
     "text": [
      "['Banana', 'Xray', 'Zebra']\n"
     ]
    }
   ],
   "source": [
    "a = [\"Akash\",\"Apple\",\"Banana\",\"Xray\",\"Zebra\"]\n",
    "del a[0:2]\n",
    "print(a)"
   ]
  },
  {
   "cell_type": "code",
   "execution_count": 28,
   "id": "27845184-e898-4d45-a47f-5eb47c50e9ae",
   "metadata": {},
   "outputs": [
    {
     "name": "stdout",
     "output_type": "stream",
     "text": [
      "['Akash', 'Banana', 'Xray', 'Zebra']\n"
     ]
    }
   ],
   "source": [
    "#remove()\n",
    "a = [\"Akash\",\"Apple\",\"Banana\",\"Xray\",\"Zebra\"]\n",
    "a.remove(\"Apple\")\n",
    "print(a)"
   ]
  },
  {
   "cell_type": "code",
   "execution_count": 29,
   "id": "933bce32-ab48-44b9-97fc-7c2e2c186ad2",
   "metadata": {},
   "outputs": [
    {
     "name": "stdout",
     "output_type": "stream",
     "text": [
      "['Akash', 'Apple', 'Banana', 'Zebra']\n"
     ]
    }
   ],
   "source": [
    "#pop \n",
    "a = [\"Akash\",\"Apple\",\"Banana\",\"Xray\",\"Zebra\"]\n",
    "a.pop(3)\n",
    "print(a)"
   ]
  },
  {
   "cell_type": "code",
   "execution_count": null,
   "id": "41fb4fdf-f2fa-47c1-9be1-2bc7f64b84ec",
   "metadata": {},
   "outputs": [],
   "source": [
    "# nested list (list inside list)"
   ]
  },
  {
   "cell_type": "code",
   "execution_count": 1,
   "id": "bd48aa87-63a2-4cd0-8043-fe35729ef7b9",
   "metadata": {},
   "outputs": [
    {
     "name": "stdout",
     "output_type": "stream",
     "text": [
      "3\n"
     ]
    }
   ],
   "source": [
    "a = [[1,2,3],[4,5,6],[7,8,9]]\n",
    "print(len(a))"
   ]
  },
  {
   "cell_type": "code",
   "execution_count": 2,
   "id": "976b84e2-2e43-4fd0-96ec-9bb423529010",
   "metadata": {},
   "outputs": [
    {
     "name": "stdout",
     "output_type": "stream",
     "text": [
      "[['Ram', 35, 'kathmandu'], ['Shyam', 25, 'bhaktapur'], ['God', 'Pashupati']]\n"
     ]
    }
   ],
   "source": [
    "a = [[\"Ram\",35,\"kathmandu\"],[\"Shyam\",25,\"bhaktapur\"],[\"God\",\"Pashupati\"]]\n",
    "print(a)"
   ]
  },
  {
   "cell_type": "code",
   "execution_count": 3,
   "id": "6fc28977-3e1f-445f-844d-91eedf6ce5ec",
   "metadata": {},
   "outputs": [
    {
     "name": "stdin",
     "output_type": "stream",
     "text": [
      "Enter n =  2\n",
      "Enter name =  ram \n",
      "Enter age =  35\n",
      "Enter add =  kkkkkkola\n",
      "Enter name =  shyam \n",
      "Enter age =  35\n",
      "Enter add =  ghar \n"
     ]
    },
    {
     "name": "stdout",
     "output_type": "stream",
     "text": [
      "[['ram ', 35, 'kkkkkkola'], ['shyam ', 35, 'ghar ']]\n"
     ]
    }
   ],
   "source": [
    "data = []\n",
    "n = int(input(\"Enter n = \"))\n",
    "for i in range(n):\n",
    "    name = input(\"Enter name = \")\n",
    "    age = int(input(\"Enter age = \"))\n",
    "    add = input(\"Enter add = \")\n",
    "    x = [name,age,add]\n",
    "    data.append(x)\n",
    "print(data)\n",
    "    "
   ]
  },
  {
   "cell_type": "code",
   "execution_count": 4,
   "id": "a35d5a4f-6b3d-43cd-9c5a-9316ca4cafc5",
   "metadata": {},
   "outputs": [
    {
     "name": "stdout",
     "output_type": "stream",
     "text": [
      "['Ram', 35, 'kathmandu']\n",
      "Ram\n"
     ]
    }
   ],
   "source": [
    "#indexing\n",
    "a = [['Ram', 35, 'kathmandu'], ['Shyam', 25, 'bhaktapur'], ['God', 'Pashupati']]\n",
    "print(a[0])\n",
    "print(a[0] [0])"
   ]
  },
  {
   "cell_type": "code",
   "execution_count": 5,
   "id": "dea33224-e756-4fb8-a068-fae45f576360",
   "metadata": {},
   "outputs": [
    {
     "data": {
      "text/plain": [
       "[['Ram', 35, 'kathmandu'],\n",
       " ['Shyam', 25, 'bhaktapur'],\n",
       " ['God', 'Pashupati'],\n",
       " ['sabin', 25, 'dolkha']]"
      ]
     },
     "execution_count": 5,
     "metadata": {},
     "output_type": "execute_result"
    }
   ],
   "source": [
    "a.append([\"sabin\",25,\"dolkha\"])\n",
    "a"
   ]
  },
  {
   "cell_type": "code",
   "execution_count": 6,
   "id": "c1eb0a8b-60d8-4835-be93-6bd7694fd848",
   "metadata": {},
   "outputs": [
    {
     "name": "stdout",
     "output_type": "stream",
     "text": [
      "['Ram', 35, 'kathmandu']\n",
      "['Shyam', 25, 'bhaktapur']\n",
      "['God', 'Pashupati']\n",
      "['sabin', 25, 'dolkha']\n"
     ]
    }
   ],
   "source": [
    "for i in a:\n",
    "    print(i)"
   ]
  },
  {
   "cell_type": "code",
   "execution_count": 10,
   "id": "73a3adce-0c6a-45b3-b9e1-d4c5ea2992c4",
   "metadata": {},
   "outputs": [
    {
     "name": "stdout",
     "output_type": "stream",
     "text": [
      "[['Ram prasad', 35, 'kathmandu'], ['Shyam', 25, 'bhaktapur'], ['God', 10, 'Pashupati']]\n"
     ]
    }
   ],
   "source": [
    "#update\n",
    "a = [['Ram', 35, 'kathmandu'],\n",
    "     ['Shyam', 25, 'bhaktapur'],\n",
    "     ['God',10,'Pashupati']]\n",
    "a[0][0] = \"Ram prasad\"\n",
    "print(a)"
   ]
  },
  {
   "cell_type": "code",
   "execution_count": 12,
   "id": "6e5eabfc-0090-4772-b5e5-1ac65fcdbe62",
   "metadata": {},
   "outputs": [
    {
     "data": {
      "text/plain": [
       "[['Shyam', 25, 'bhaktapur'], ['God', 'Pashupati']]"
      ]
     },
     "execution_count": 12,
     "metadata": {},
     "output_type": "execute_result"
    }
   ],
   "source": [
    "#del remove() pop()\n",
    "a = [['Ram', 35, 'kathmandu'], ['Shyam', 25, 'bhaktapur'], ['God', 'Pashupati']]\n",
    "del a[0]\n",
    "a"
   ]
  },
  {
   "cell_type": "code",
   "execution_count": 13,
   "id": "ca25240b-10fd-42e4-b961-e30c2208b40d",
   "metadata": {},
   "outputs": [
    {
     "data": {
      "text/plain": [
       "[[35, 'kathmandu'], ['Shyam', 25, 'bhaktapur'], ['God', 'Pashupati']]"
      ]
     },
     "execution_count": 13,
     "metadata": {},
     "output_type": "execute_result"
    }
   ],
   "source": [
    "a = [['Ram', 35, 'kathmandu'], ['Shyam', 25, 'bhaktapur'], ['God', 'Pashupati']]\n",
    "del a[0][0]\n",
    "a"
   ]
  },
  {
   "cell_type": "code",
   "execution_count": 14,
   "id": "0ffa1f3b-6cb9-4496-85f7-9b6589163365",
   "metadata": {},
   "outputs": [
    {
     "name": "stdin",
     "output_type": "stream",
     "text": [
      "Enter name =  Ram\n"
     ]
    },
    {
     "name": "stdout",
     "output_type": "stream",
     "text": [
      "Yes\n",
      "1\n"
     ]
    }
   ],
   "source": [
    "#search\n",
    "a = [\"Ram\",\"Sita\",\"Hari\",\"Gita\",\"Shyam\",\"Rambo\"]\n",
    "search = input(\"Enter name = \")\n",
    "if search in a:\n",
    "    print(\"Yes\")\n",
    "    print(a.count(\"Ram\"))\n",
    "else:\n",
    "    print(\"No\")"
   ]
  },
  {
   "cell_type": "code",
   "execution_count": 15,
   "id": "cec59a12-e340-4801-b3d7-364630cdf302",
   "metadata": {},
   "outputs": [
    {
     "name": "stdin",
     "output_type": "stream",
     "text": [
      "Enter name =  bhaktapur\n"
     ]
    },
    {
     "name": "stdout",
     "output_type": "stream",
     "text": [
      "['Shyam', 25, 'bhaktapur']\n",
      "1\n"
     ]
    }
   ],
   "source": [
    "#search in list \n",
    "c = 0\n",
    "a = [['Ram', 35, 'kathmandu'], ['Shyam', 25, 'bhaktapur'], ['God', 45, 'Pashupati'],['Ram', 30,'Ayodha'],['Ram', 55,'Janakpur']]\n",
    "search = input(\"Enter name = \")\n",
    "for i in a:\n",
    "    if search in i:\n",
    "        print(i)\n",
    "        c = c + 1\n",
    "\n",
    "print(c)"
   ]
  },
  {
   "cell_type": "code",
   "execution_count": 11,
   "id": "ecc92851-e6e3-4c59-a29c-dd7e43483386",
   "metadata": {},
   "outputs": [
    {
     "name": "stdin",
     "output_type": "stream",
     "text": [
      "Enter name =  Ram\n"
     ]
    },
    {
     "name": "stdout",
     "output_type": "stream",
     "text": [
      "0\n",
      "3\n",
      "4\n"
     ]
    }
   ],
   "source": [
    "a = [['Ram', 35, 'kathmandu'], ['Shyam', 25, 'bhaktapur'], ['God', 45, 'Pashupati'],['Ram', 30,'Ayodha'],['Ram', 55,'Janakpur']]\n",
    "l = len(a)\n",
    "search = input(\"Enter name = \") \n",
    "for i in range(l):\n",
    "    if search in a[i]:\n",
    "        print(i)"
   ]
  },
  {
   "cell_type": "code",
   "execution_count": 4,
   "id": "98c760a0-7262-4d9b-85ff-7f5c9964084f",
   "metadata": {},
   "outputs": [
    {
     "name": "stdin",
     "output_type": "stream",
     "text": [
      "Enter name for search =  Ram\n"
     ]
    },
    {
     "name": "stdout",
     "output_type": "stream",
     "text": [
      "[['Shyam', 25, 'bhaktapur'], ['God', 45, 'Pashupati']]\n"
     ]
    }
   ],
   "source": [
    "b = [] \n",
    "a = [['Ram', 35, 'kathmandu'], \n",
    "     ['Shyam', 25, 'bhaktapur'], \n",
    "     ['God', 45, 'Pashupati'],\n",
    "     ['Ram', 30,'Ayodha'],\n",
    "     ['Ram', 55,'Janakpur']]\n",
    "\n",
    "search = input(\"Enter name for search = \")\n",
    "for i in a:\n",
    "    if search != i[0]:\n",
    "        b.append(i)\n",
    "\n",
    "print(b)\n",
    "        "
   ]
  },
  {
   "cell_type": "code",
   "execution_count": null,
   "id": "598ea94f-e44c-4dde-bd47-d8fdf81b31f6",
   "metadata": {},
   "outputs": [],
   "source": []
  },
  {
   "cell_type": "code",
   "execution_count": null,
   "id": "9d28ff08-159b-4a87-84ba-ec19e21630f5",
   "metadata": {},
   "outputs": [],
   "source": []
  }
 ],
 "metadata": {
  "kernelspec": {
   "display_name": "Python 3 (ipykernel)",
   "language": "python",
   "name": "python3"
  },
  "language_info": {
   "codemirror_mode": {
    "name": "ipython",
    "version": 3
   },
   "file_extension": ".py",
   "mimetype": "text/x-python",
   "name": "python",
   "nbconvert_exporter": "python",
   "pygments_lexer": "ipython3",
   "version": "3.12.7"
  }
 },
 "nbformat": 4,
 "nbformat_minor": 5
}
