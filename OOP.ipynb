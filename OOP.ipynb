{
 "cells": [
  {
   "cell_type": "code",
   "execution_count": null,
   "id": "9bb48a6b-c1c6-4d55-b168-a97f2df754d3",
   "metadata": {},
   "outputs": [],
   "source": [
    "#class \n",
    "class <class_name>:   #class\n",
    "    <methods>         #methods \n",
    "    <methods>\n",
    "\n",
    "obj = <class_name>() #object \n"
   ]
  },
  {
   "cell_type": "code",
   "execution_count": 1,
   "id": "65cc1d47-6628-49ff-bb7c-286e4912432f",
   "metadata": {},
   "outputs": [
    {
     "ename": "AttributeError",
     "evalue": "'Hello' object has no attribute 'hello'",
     "output_type": "error",
     "traceback": [
      "\u001b[1;31m---------------------------------------------------------------------------\u001b[0m",
      "\u001b[1;31mAttributeError\u001b[0m                            Traceback (most recent call last)",
      "Cell \u001b[1;32mIn[1], line 6\u001b[0m\n\u001b[0;32m      3\u001b[0m         \u001b[38;5;28mprint\u001b[39m(\u001b[38;5;124m\"\u001b[39m\u001b[38;5;124mHello World\u001b[39m\u001b[38;5;124m\"\u001b[39m)\n\u001b[0;32m      5\u001b[0m obj \u001b[38;5;241m=\u001b[39m Hello() \n\u001b[1;32m----> 6\u001b[0m obj\u001b[38;5;241m.\u001b[39mhello()\n",
      "\u001b[1;31mAttributeError\u001b[0m: 'Hello' object has no attribute 'hello'"
     ]
    }
   ],
   "source": [
    "class Hello: \n",
    "    def hello():\n",
    "        print(\"Hello World\")\n",
    "\n",
    "obj = Hello() \n",
    "obj.hello()\n",
    "        "
   ]
  },
  {
   "cell_type": "code",
   "execution_count": 2,
   "id": "db3c370b-a512-49e2-8000-7b942b85fda8",
   "metadata": {},
   "outputs": [
    {
     "name": "stdout",
     "output_type": "stream",
     "text": [
      "Hello World\n"
     ]
    }
   ],
   "source": [
    "class Hello: \n",
    "    @staticmethod\n",
    "    def hello():\n",
    "        print(\"Hello World\")\n",
    "\n",
    "obj = Hello() \n",
    "obj.hello()\n",
    "        "
   ]
  },
  {
   "cell_type": "code",
   "execution_count": 3,
   "id": "2e426fdb-2f6b-4f61-8f76-64e933e58681",
   "metadata": {},
   "outputs": [
    {
     "name": "stdout",
     "output_type": "stream",
     "text": [
      "Hello World\n"
     ]
    }
   ],
   "source": [
    "class Hello:             #class \n",
    "    def hello(self):     #method\n",
    "        print(\"Hello World\")\n",
    "\n",
    "obj = Hello()            #object\n",
    "obj.hello()              #calling method \n",
    "        "
   ]
  },
  {
   "cell_type": "code",
   "execution_count": 6,
   "id": "c3332174-03fd-4f04-86e5-7c86e3fbd5a7",
   "metadata": {},
   "outputs": [
    {
     "name": "stdout",
     "output_type": "stream",
     "text": [
      "50\n",
      "100\n"
     ]
    }
   ],
   "source": [
    "class Cal: \n",
    "    def area(self):\n",
    "        l = 10 \n",
    "        b = 5 \n",
    "        a = l*b\n",
    "        print(a) \n",
    "    def volume (self): \n",
    "        l = 10 \n",
    "        b = 5\n",
    "        h = 2\n",
    "        v = l*b*h\n",
    "        print(v)\n",
    "\n",
    "obj = Cal() \n",
    "obj.area()\n",
    "obj.volume()"
   ]
  },
  {
   "cell_type": "code",
   "execution_count": 8,
   "id": "8490be43-66e1-43ce-8969-f1bf5f4599ce",
   "metadata": {},
   "outputs": [
    {
     "name": "stdout",
     "output_type": "stream",
     "text": [
      "Hello World I am Ram. I am from Kathmandu. I am 23\n"
     ]
    }
   ],
   "source": [
    "class Info:\n",
    "    def __init__(self):\n",
    "        self.name = \"Ram\"\n",
    "        self.age = 23\n",
    "        self.add = \"Kathmandu\"\n",
    "\n",
    "    def info(self):\n",
    "        data = f\"Hello World I am {self.name}. I am from {self.add}. I am {self.age}\"\n",
    "        print(data)\n",
    "        \n",
    "obj = Info() \n",
    "obj.info()"
   ]
  },
  {
   "cell_type": "code",
   "execution_count": 10,
   "id": "28cc3692-6d7d-4a02-8fe2-80395a3656bf",
   "metadata": {},
   "outputs": [
    {
     "name": "stdin",
     "output_type": "stream",
     "text": [
      "Enter name =  Rambo\n",
      "Enter age =  60\n",
      "Enter add =  California \n"
     ]
    },
    {
     "name": "stdout",
     "output_type": "stream",
     "text": [
      "Hello World I am Rambo. I am from California . I am 60\n"
     ]
    }
   ],
   "source": [
    "class Info:\n",
    "    def __init__(self,name,age,add):\n",
    "        self.name = name\n",
    "        self.age = age\n",
    "        self.add = add\n",
    "\n",
    "    def info(self):\n",
    "        data = f\"Hello World I am {self.name}. I am from {self.add}. I am {self.age}\"\n",
    "        print(data)\n",
    "name = input(\"Enter name = \")\n",
    "age = int(input(\"Enter age = \"))\n",
    "add = input(\"Enter add = \") \n",
    "\n",
    "obj = Info(name,age,add) \n",
    "obj.info()"
   ]
  },
  {
   "cell_type": "code",
   "execution_count": 12,
   "id": "6b7c51d0-4a5b-4967-9247-d43beada57e9",
   "metadata": {},
   "outputs": [
    {
     "name": "stdin",
     "output_type": "stream",
     "text": [
      "Enter name =  Johnny \n",
      "Enter age =  50\n",
      "Enter add =  humla\n"
     ]
    },
    {
     "name": "stdout",
     "output_type": "stream",
     "text": [
      "Hello World I am Johnny . I am from humla. I am 50\n"
     ]
    }
   ],
   "source": [
    "class Info:\n",
    "    def __init__(self,name,age):\n",
    "        self.name = name\n",
    "        self.age = age\n",
    "\n",
    "    def info(self,add):\n",
    "        data = f\"Hello World I am {self.name}. I am from {add}. I am {self.age}\"\n",
    "        print(data)\n",
    "        \n",
    "name = input(\"Enter name = \")\n",
    "age = int(input(\"Enter age = \"))\n",
    "add = input(\"Enter add = \") \n",
    "\n",
    "obj = Info(name,age) \n",
    "obj.info(add)"
   ]
  },
  {
   "cell_type": "code",
   "execution_count": 13,
   "id": "d4c000f0-9797-4bab-b4bc-892421ce4b1c",
   "metadata": {},
   "outputs": [
    {
     "name": "stdin",
     "output_type": "stream",
     "text": [
      "Enter name =  Rambo \n",
      "Enter age =  60\n",
      "Enter add =  Humla\n"
     ]
    },
    {
     "name": "stdout",
     "output_type": "stream",
     "text": [
      "Hello World I am Rambo . I am from Humla. I am 60\n",
      "Hello World I am Shyam. I am from Lalitpur. I am 33\n"
     ]
    }
   ],
   "source": [
    "class Info:\n",
    "    def __init__(self,name,age,add):\n",
    "        self.name = name\n",
    "        self.age = age\n",
    "        self.add = add\n",
    "\n",
    "    def info(self):\n",
    "        data = f\"Hello World I am {self.name}. I am from {self.add}. I am {self.age}\"\n",
    "        print(data)\n",
    "name = input(\"Enter name = \")\n",
    "age = int(input(\"Enter age = \"))\n",
    "add = input(\"Enter add = \") \n",
    "\n",
    "obj = Info(name,age,add) \n",
    "obj.info()\n",
    "\n",
    "obj1 = Info(\"Shyam\",33,\"Lalitpur\")\n",
    "obj1.info()"
   ]
  },
  {
   "cell_type": "code",
   "execution_count": 14,
   "id": "000c6c4b-1b9f-44c1-9635-62bcc000843e",
   "metadata": {},
   "outputs": [
    {
     "name": "stdout",
     "output_type": "stream",
     "text": [
      "Hello World I am Shyam. I am from Lalitpur. I am 33\n"
     ]
    }
   ],
   "source": [
    "obj1.info()"
   ]
  },
  {
   "cell_type": "code",
   "execution_count": null,
   "id": "cacac51c-d194-42ef-8c3e-89485748d81a",
   "metadata": {},
   "outputs": [],
   "source": [
    "#WAP to create different class (Area and Volume) using different class and object. and class the funtion inside class "
   ]
  },
  {
   "cell_type": "code",
   "execution_count": 28,
   "id": "4fc3ec3a-862d-4f76-9bf3-ddd26193b36f",
   "metadata": {},
   "outputs": [
    {
     "name": "stdout",
     "output_type": "stream",
     "text": [
      "50\n",
      "100\n"
     ]
    }
   ],
   "source": [
    "class Area: \n",
    "    def __init__(self,l,b):\n",
    "        self.l = l\n",
    "        self.b = b\n",
    "    def area(self):\n",
    "        a = self.l*self.b\n",
    "        print(a)\n",
    "\n",
    "\n",
    "class Volume:\n",
    "    def __init__(self,l,b,h):\n",
    "        \n",
    "        self.l = l\n",
    "        self.b = b \n",
    "        self.h = h \n",
    "    def volume(self):\n",
    "        v = l*b*h \n",
    "        print(v) \n",
    "\n",
    "l = 10 \n",
    "b = 5\n",
    "h = 2\n",
    "\n",
    "obj = Area(l,b) \n",
    "obj.area()\n",
    "\n",
    "obj1=Volume(l,b,h)\n",
    "obj1.volume()"
   ]
  },
  {
   "cell_type": "code",
   "execution_count": null,
   "id": "7e7deb1c-b6bb-4da1-a26d-c95855d3ccd0",
   "metadata": {},
   "outputs": [],
   "source": []
  }
 ],
 "metadata": {
  "kernelspec": {
   "display_name": "Python 3 (ipykernel)",
   "language": "python",
   "name": "python3"
  },
  "language_info": {
   "codemirror_mode": {
    "name": "ipython",
    "version": 3
   },
   "file_extension": ".py",
   "mimetype": "text/x-python",
   "name": "python",
   "nbconvert_exporter": "python",
   "pygments_lexer": "ipython3",
   "version": "3.12.7"
  }
 },
 "nbformat": 4,
 "nbformat_minor": 5
}
